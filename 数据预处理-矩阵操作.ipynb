{
 "cells": [
  {
   "cell_type": "code",
   "execution_count": 2,
   "metadata": {
    "collapsed": true
   },
   "outputs": [],
   "source": [
    "#!/usr/bin/python\n",
    "# -*- coding: UTF-8 -*-\n",
    "import numpy as np"
   ]
  },
  {
   "cell_type": "markdown",
   "metadata": {},
   "source": [
    "# 矩阵形状"
   ]
  },
  {
   "cell_type": "code",
   "execution_count": 179,
   "metadata": {},
   "outputs": [
    {
     "data": {
      "text/plain": [
       "(2, 3)"
      ]
     },
     "execution_count": 179,
     "metadata": {},
     "output_type": "execute_result"
    }
   ],
   "source": [
    "a=np.array([[1,2,3],[4,5,6]])\n",
    "a.shape"
   ]
  },
  {
   "cell_type": "markdown",
   "metadata": {},
   "source": [
    "# 矩阵维度"
   ]
  },
  {
   "cell_type": "code",
   "execution_count": 180,
   "metadata": {},
   "outputs": [
    {
     "data": {
      "text/plain": [
       "2"
      ]
     },
     "execution_count": 180,
     "metadata": {},
     "output_type": "execute_result"
    }
   ],
   "source": [
    "a=np.array([[1,2,3],[4,5,6]])\n",
    "a.ndim"
   ]
  },
  {
   "cell_type": "markdown",
   "metadata": {},
   "source": [
    "# 矩阵元素个数"
   ]
  },
  {
   "cell_type": "code",
   "execution_count": 181,
   "metadata": {},
   "outputs": [
    {
     "data": {
      "text/plain": [
       "6"
      ]
     },
     "execution_count": 181,
     "metadata": {},
     "output_type": "execute_result"
    }
   ],
   "source": [
    "a=np.array([[1,2,3],[4,5,6]])\n",
    "a.size"
   ]
  },
  {
   "cell_type": "markdown",
   "metadata": {},
   "source": [
    "# 矩阵数据类型\n",
    "uint8\t无符号整数（0 to 255）  \n",
    "int8\t字节（-128 to 127）  \n",
    "int16\t整数（-32768 to 32767）  \n",
    "int32\t整数（-2147483648 to 2147483647）  \n",
    "float16\t半精度浮点数，包括：1 个符号位，5 个指数位，10 个尾数位  \n",
    "float32\t单精度浮点数，包括：1 个符号位，8 个指数位，23 个尾数位  "
   ]
  },
  {
   "cell_type": "code",
   "execution_count": 182,
   "metadata": {},
   "outputs": [
    {
     "data": {
      "text/plain": [
       "dtype('int32')"
      ]
     },
     "execution_count": 182,
     "metadata": {},
     "output_type": "execute_result"
    }
   ],
   "source": [
    "a=np.array([[1,2,3],[4,5,6]])\n",
    "a.dtype"
   ]
  },
  {
   "cell_type": "markdown",
   "metadata": {},
   "source": [
    "# 创建随机数构成的矩阵，元素是5个"
   ]
  },
  {
   "cell_type": "code",
   "execution_count": 216,
   "metadata": {},
   "outputs": [
    {
     "name": "stdout",
     "output_type": "stream",
     "text": [
      "[0.62508035 0.43409203 0.11675395 0.08994752 0.50503045]\n",
      "[[0.83630708 0.56552849]\n",
      " [0.89533337 0.60330445]\n",
      " [0.70921178 0.57154934]]\n"
     ]
    },
    {
     "data": {
      "text/plain": [
       "array([[4, 1, 3],\n",
       "       [3, 4, 8],\n",
       "       [2, 7, 8]])"
      ]
     },
     "execution_count": 216,
     "metadata": {},
     "output_type": "execute_result"
    }
   ],
   "source": [
    "print(np.random.rand(5))\n",
    "print(np.random.rand(3,2))\n",
    "#创建随机整数,low、high、size三个参数,省略low时默认low=0\n",
    "np.random.randint(1,10,size=(3,3))"
   ]
  },
  {
   "cell_type": "markdown",
   "metadata": {},
   "source": [
    "# 创建指定元素的矩阵"
   ]
  },
  {
   "cell_type": "code",
   "execution_count": 184,
   "metadata": {},
   "outputs": [
    {
     "data": {
      "text/plain": [
       "array([[1, 2, 3],\n",
       "       [4, 5, 6]])"
      ]
     },
     "execution_count": 184,
     "metadata": {},
     "output_type": "execute_result"
    }
   ],
   "source": [
    "np.array([[1,2,3],[4,5,6]])"
   ]
  },
  {
   "cell_type": "markdown",
   "metadata": {},
   "source": [
    "# 创建与范例一样shape的0矩阵"
   ]
  },
  {
   "cell_type": "code",
   "execution_count": 185,
   "metadata": {},
   "outputs": [
    {
     "data": {
      "text/plain": [
       "array([[0., 0., 0.],\n",
       "       [0., 0., 0.]])"
      ]
     },
     "execution_count": 185,
     "metadata": {},
     "output_type": "execute_result"
    }
   ],
   "source": [
    "a=np.array([[1,2,3],[4,5,6]])\n",
    "np.zeros_like(a, dtype=float)"
   ]
  },
  {
   "cell_type": "markdown",
   "metadata": {},
   "source": [
    "# 创建5*2的矩阵，用0填充"
   ]
  },
  {
   "cell_type": "code",
   "execution_count": 186,
   "metadata": {},
   "outputs": [
    {
     "data": {
      "text/plain": [
       "array([[0., 0.],\n",
       "       [0., 0.],\n",
       "       [0., 0.],\n",
       "       [0., 0.],\n",
       "       [0., 0.]])"
      ]
     },
     "execution_count": 186,
     "metadata": {},
     "output_type": "execute_result"
    }
   ],
   "source": [
    "np.zeros((5, 2), dtype=float)"
   ]
  },
  {
   "cell_type": "markdown",
   "metadata": {},
   "source": [
    "# 创建5*2的矩阵，用1填充"
   ]
  },
  {
   "cell_type": "code",
   "execution_count": 187,
   "metadata": {},
   "outputs": [
    {
     "data": {
      "text/plain": [
       "array([[1., 1.],\n",
       "       [1., 1.],\n",
       "       [1., 1.],\n",
       "       [1., 1.],\n",
       "       [1., 1.]])"
      ]
     },
     "execution_count": 187,
     "metadata": {},
     "output_type": "execute_result"
    }
   ],
   "source": [
    "np.ones((5, 2), dtype=float)"
   ]
  },
  {
   "cell_type": "markdown",
   "metadata": {},
   "source": [
    "# 创建5*2的空矩阵，仅仅分配矩阵所使用的内存，不对矩阵元素进行初始化操作，因此它的运行速度是最快的"
   ]
  },
  {
   "cell_type": "code",
   "execution_count": 188,
   "metadata": {},
   "outputs": [
    {
     "data": {
      "text/plain": [
       "array([[1., 1.],\n",
       "       [1., 1.],\n",
       "       [1., 1.],\n",
       "       [1., 1.],\n",
       "       [1., 1.]])"
      ]
     },
     "execution_count": 188,
     "metadata": {},
     "output_type": "execute_result"
    }
   ],
   "source": [
    "np.empty((5, 2))"
   ]
  },
  {
   "cell_type": "markdown",
   "metadata": {},
   "source": [
    "# 按照步长创建矩阵，默认步长为1"
   ]
  },
  {
   "cell_type": "code",
   "execution_count": 189,
   "metadata": {},
   "outputs": [
    {
     "data": {
      "text/plain": [
       "array([1, 2, 3, 4, 5])"
      ]
     },
     "execution_count": 189,
     "metadata": {},
     "output_type": "execute_result"
    }
   ],
   "source": [
    "np.arange(1,6)"
   ]
  },
  {
   "cell_type": "markdown",
   "metadata": {},
   "source": [
    "# 指定步长为2的等差数列"
   ]
  },
  {
   "cell_type": "code",
   "execution_count": 190,
   "metadata": {},
   "outputs": [
    {
     "data": {
      "text/plain": [
       "array([ 1,  3,  5,  7,  9, 11])"
      ]
     },
     "execution_count": 190,
     "metadata": {},
     "output_type": "execute_result"
    }
   ],
   "source": [
    "np.arange(1,12,2)"
   ]
  },
  {
   "cell_type": "markdown",
   "metadata": {},
   "source": [
    "# 指定元素个数为10个的等差数列"
   ]
  },
  {
   "cell_type": "code",
   "execution_count": 191,
   "metadata": {},
   "outputs": [
    {
     "data": {
      "text/plain": [
       "array([1.        , 1.55555556, 2.11111111, 2.66666667, 3.22222222,\n",
       "       3.77777778, 4.33333333, 4.88888889, 5.44444444, 6.        ])"
      ]
     },
     "execution_count": 191,
     "metadata": {},
     "output_type": "execute_result"
    }
   ],
   "source": [
    "np.linspace(1,6,10)"
   ]
  },
  {
   "cell_type": "markdown",
   "metadata": {
    "collapsed": true
   },
   "source": [
    "# 对矩阵进行从小到大的排序"
   ]
  },
  {
   "cell_type": "code",
   "execution_count": 192,
   "metadata": {},
   "outputs": [
    {
     "name": "stdout",
     "output_type": "stream",
     "text": [
      "[[1 3 3]\n",
      " [4 7 7]\n",
      " [5 4 8]]\n"
     ]
    },
    {
     "data": {
      "text/plain": [
       "array([[1, 3, 3],\n",
       "       [4, 4, 7],\n",
       "       [5, 7, 8]])"
      ]
     },
     "execution_count": 192,
     "metadata": {},
     "output_type": "execute_result"
    }
   ],
   "source": [
    "a=np.random.randint(10,size=(3,3))\n",
    "print(a)\n",
    "np.sort(a,axis=0)"
   ]
  },
  {
   "cell_type": "markdown",
   "metadata": {},
   "source": [
    "# 对矩阵进行从小到大的排序，返回对应的索引"
   ]
  },
  {
   "cell_type": "code",
   "execution_count": 193,
   "metadata": {},
   "outputs": [
    {
     "name": "stdout",
     "output_type": "stream",
     "text": [
      "[[7 8 2]\n",
      " [9 0 3]\n",
      " [7 6 2]]\n"
     ]
    },
    {
     "data": {
      "text/plain": [
       "array([[0, 1, 0],\n",
       "       [2, 2, 2],\n",
       "       [1, 0, 1]], dtype=int64)"
      ]
     },
     "execution_count": 193,
     "metadata": {},
     "output_type": "execute_result"
    }
   ],
   "source": [
    "a=np.random.randint(10,size=(3,3))\n",
    "print(a)\n",
    "np.argsort(a,axis=0)"
   ]
  },
  {
   "cell_type": "markdown",
   "metadata": {},
   "source": [
    "# 返回矩阵最大值的索引"
   ]
  },
  {
   "cell_type": "code",
   "execution_count": 23,
   "metadata": {},
   "outputs": [
    {
     "name": "stdout",
     "output_type": "stream",
     "text": [
      "[[0.48450119 0.9978226  0.59960105]\n",
      " [0.31642767 0.78604546 0.45185827]\n",
      " [0.26132824 0.88702066 0.64023671]]\n"
     ]
    },
    {
     "data": {
      "text/plain": [
       "array([0, 0, 2], dtype=int64)"
      ]
     },
     "execution_count": 23,
     "metadata": {},
     "output_type": "execute_result"
    }
   ],
   "source": [
    "a=np.random.rand(3,3)\n",
    "print(a)\n",
    "np.argmax(a,axis=0)"
   ]
  },
  {
   "cell_type": "markdown",
   "metadata": {},
   "source": [
    "# 使用切片方式获取的矩阵与原矩阵共享内存，修改一个另一个会同时变更"
   ]
  },
  {
   "cell_type": "code",
   "execution_count": 194,
   "metadata": {},
   "outputs": [
    {
     "name": "stdout",
     "output_type": "stream",
     "text": [
      "[0,:,:]表示第一个3维数组，相当于正方体的第一个切面 [[7 1 9 9 6]\n",
      " [8 7 1 9 8]\n",
      " [8 6 6 8 0]\n",
      " [0 3 5 0 6]\n",
      " [0 9 6 4 7]] \n",
      "\n",
      "[1:3,:,:]表示第2个到第4个的3维数组 [[[2 6 2 7 7]\n",
      "  [1 7 1 1 5]\n",
      "  [6 1 6 9 8]\n",
      "  [3 2 9 7 0]\n",
      "  [9 2 3 2 5]]\n",
      "\n",
      " [[5 5 7 9 5]\n",
      "  [4 8 8 7 4]\n",
      "  [5 7 4 6 0]\n",
      "  [1 1 3 3 7]\n",
      "  [6 0 5 8 0]]] \n",
      "\n"
     ]
    }
   ],
   "source": [
    "a=np.random.randint(10,size=(5,5,5))\n",
    "\n",
    "print(\"[0,:,:]表示第一个3维数组，相当于正方体的第一个切面\",a[0,:,:],'\\n')\n",
    "print(\"[1:3,:,:]表示第2个到第4个的3维数组\",a[1:3,:,:],'\\n')"
   ]
  },
  {
   "cell_type": "markdown",
   "metadata": {},
   "source": [
    "# 返回矩阵的一个复制,和原数组不共享内存"
   ]
  },
  {
   "cell_type": "code",
   "execution_count": 195,
   "metadata": {},
   "outputs": [
    {
     "data": {
      "text/plain": [
       "array([[5, 2],\n",
       "       [1, 5]])"
      ]
     },
     "execution_count": 195,
     "metadata": {},
     "output_type": "execute_result"
    }
   ],
   "source": [
    "a=np.random.randint(10,size=(2,2))\n",
    "a.copy()"
   ]
  },
  {
   "cell_type": "markdown",
   "metadata": {
    "collapsed": true
   },
   "source": [
    "# 转换数据类型"
   ]
  },
  {
   "cell_type": "code",
   "execution_count": 196,
   "metadata": {},
   "outputs": [
    {
     "name": "stdout",
     "output_type": "stream",
     "text": [
      "[[9 0]\n",
      " [8 5]]\n",
      "[[9. 0.]\n",
      " [8. 5.]]\n"
     ]
    }
   ],
   "source": [
    "a=np.random.randint(10,size=(2,2))\n",
    "print(a)\n",
    "print(a.astype(np.float32))"
   ]
  },
  {
   "cell_type": "markdown",
   "metadata": {},
   "source": [
    "# 浅层复制改变矩阵shape，(m,n,p) m*n*p等于原矩阵元素总个数\n",
    "#reshape()为浅层复制，创建的数组和原数组不共享内存，改变一个数组，另一个不会同时改变"
   ]
  },
  {
   "cell_type": "code",
   "execution_count": 197,
   "metadata": {},
   "outputs": [
    {
     "data": {
      "text/plain": [
       "array([[3, 9, 7, 0, 0],\n",
       "       [5, 8, 0, 4, 6],\n",
       "       [3, 6, 6, 8, 3],\n",
       "       [5, 7, 8, 7, 0],\n",
       "       [2, 6, 9, 2, 8],\n",
       "       [0, 0, 5, 0, 0]])"
      ]
     },
     "execution_count": 197,
     "metadata": {},
     "output_type": "execute_result"
    }
   ],
   "source": [
    "a=np.random.randint(10,size=(2,15))\n",
    "a.reshape(6,5)"
   ]
  },
  {
   "cell_type": "markdown",
   "metadata": {},
   "source": [
    "# 深层复制改变矩阵shape，创建的矩阵和原矩阵共享内存，改变一个矩阵，另一个会同时改变"
   ]
  },
  {
   "cell_type": "code",
   "execution_count": 198,
   "metadata": {},
   "outputs": [
    {
     "name": "stdout",
     "output_type": "stream",
     "text": [
      "[[9 8 6 7 7]\n",
      " [1 1 4 0 3]\n",
      " [6 3 8 2 2]\n",
      " [2 7 0 7 5]\n",
      " [3 7 9 8 0]\n",
      " [4 4 9 3 1]]\n"
     ]
    }
   ],
   "source": [
    "a=np.random.randint(10,size=(2,15))\n",
    "a.resize(6,5)\n",
    "print(a)"
   ]
  },
  {
   "cell_type": "markdown",
   "metadata": {},
   "source": [
    "# 交换维度的顺序"
   ]
  },
  {
   "cell_type": "code",
   "execution_count": 199,
   "metadata": {},
   "outputs": [
    {
     "name": "stdout",
     "output_type": "stream",
     "text": [
      "(2, 3, 4)\n",
      "(3, 2, 4)\n"
     ]
    }
   ],
   "source": [
    "a=np.random.randint(10,size=(2,3,4))\n",
    "print(a.shape)\n",
    "b=a.transpose(1,0,2)\n",
    "print(b.shape)"
   ]
  },
  {
   "cell_type": "markdown",
   "metadata": {
    "collapsed": true
   },
   "source": [
    "# 元素顺序交换"
   ]
  },
  {
   "cell_type": "code",
   "execution_count": 200,
   "metadata": {
    "collapsed": true
   },
   "outputs": [],
   "source": [
    "rgb=np.ones((50,80,3),dtype=np.uint8)\n",
    "bgr=rgb[:,:,[2,1,0]]"
   ]
  },
  {
   "cell_type": "markdown",
   "metadata": {},
   "source": [
    "# 矩阵元素相加"
   ]
  },
  {
   "cell_type": "code",
   "execution_count": 201,
   "metadata": {},
   "outputs": [
    {
     "name": "stdout",
     "output_type": "stream",
     "text": [
      "[[1 3]\n",
      " [2 5]]\n"
     ]
    },
    {
     "data": {
      "text/plain": [
       "array([[ 2,  6],\n",
       "       [ 4, 10]])"
      ]
     },
     "execution_count": 201,
     "metadata": {},
     "output_type": "execute_result"
    }
   ],
   "source": [
    "a=np.random.randint(10,size=(2,2))\n",
    "print(a)\n",
    "a+a"
   ]
  },
  {
   "cell_type": "markdown",
   "metadata": {
    "collapsed": true
   },
   "source": [
    "# 数组元素相乘"
   ]
  },
  {
   "cell_type": "code",
   "execution_count": 202,
   "metadata": {},
   "outputs": [
    {
     "name": "stdout",
     "output_type": "stream",
     "text": [
      "[[1 8]\n",
      " [4 6]]\n"
     ]
    },
    {
     "data": {
      "text/plain": [
       "array([[ 1, 64],\n",
       "       [16, 36]])"
      ]
     },
     "execution_count": 202,
     "metadata": {},
     "output_type": "execute_result"
    }
   ],
   "source": [
    "a=np.random.randint(10,size=(2,2))\n",
    "print(a)\n",
    "a*a"
   ]
  },
  {
   "cell_type": "markdown",
   "metadata": {},
   "source": [
    "# 数组元素相除，返回精确的商"
   ]
  },
  {
   "cell_type": "code",
   "execution_count": 217,
   "metadata": {},
   "outputs": [
    {
     "data": {
      "text/plain": [
       "array([[0.33333333, 1.14285714],\n",
       "       [0.875     , 4.        ]])"
      ]
     },
     "execution_count": 217,
     "metadata": {},
     "output_type": "execute_result"
    }
   ],
   "source": [
    "a=np.random.randint(10,size=(2,2))\n",
    "b=np.random.randint(1,10,size=(2,2))\n",
    "a/b"
   ]
  },
  {
   "cell_type": "markdown",
   "metadata": {},
   "source": [
    "# 数组元素相除，返回值取整"
   ]
  },
  {
   "cell_type": "code",
   "execution_count": 204,
   "metadata": {},
   "outputs": [
    {
     "data": {
      "text/plain": [
       "array([[1, 0],\n",
       "       [0, 3]], dtype=int32)"
      ]
     },
     "execution_count": 204,
     "metadata": {},
     "output_type": "execute_result"
    }
   ],
   "source": [
    "a=np.random.randint(10,size=(2,2))\n",
    "b=np.random.randint(10,size=(2,2))\n",
    "a//b"
   ]
  },
  {
   "cell_type": "markdown",
   "metadata": {},
   "source": [
    "# 矩阵元素进行逻辑运算生成布尔数组\n",
    "可以使用的逻辑运算符号有<,<=,>,>=,==,!="
   ]
  },
  {
   "cell_type": "code",
   "execution_count": 205,
   "metadata": {},
   "outputs": [
    {
     "name": "stdout",
     "output_type": "stream",
     "text": [
      "[[1 9]\n",
      " [8 6]]\n"
     ]
    },
    {
     "data": {
      "text/plain": [
       "array([[False,  True],\n",
       "       [ True,  True]])"
      ]
     },
     "execution_count": 205,
     "metadata": {},
     "output_type": "execute_result"
    }
   ],
   "source": [
    "a=np.random.randint(10,size=(2,2))\n",
    "print(a)\n",
    "a>3"
   ]
  },
  {
   "cell_type": "markdown",
   "metadata": {},
   "source": [
    "# 矩阵转置"
   ]
  },
  {
   "cell_type": "code",
   "execution_count": 206,
   "metadata": {},
   "outputs": [
    {
     "name": "stdout",
     "output_type": "stream",
     "text": [
      "[[9 9 6]\n",
      " [4 1 2]]\n"
     ]
    },
    {
     "data": {
      "text/plain": [
       "array([[9, 4],\n",
       "       [9, 1],\n",
       "       [6, 2]])"
      ]
     },
     "execution_count": 206,
     "metadata": {},
     "output_type": "execute_result"
    }
   ],
   "source": [
    "a=np.random.randint(10,size=(2,3))\n",
    "print(a)\n",
    "a.T"
   ]
  },
  {
   "cell_type": "markdown",
   "metadata": {},
   "source": [
    "# 矩阵连接"
   ]
  },
  {
   "cell_type": "code",
   "execution_count": 207,
   "metadata": {},
   "outputs": [
    {
     "name": "stdout",
     "output_type": "stream",
     "text": [
      "[[7 0 8]\n",
      " [3 8 8]]\n",
      "axis=0连接\n",
      "[[7 0 8]\n",
      " [3 8 8]\n",
      " [7 0 8]\n",
      " [3 8 8]\n",
      " [7 0 8]\n",
      " [3 8 8]]\n",
      "axis=1连接\n",
      "[[7 0 8 7 0 8 7 0 8]\n",
      " [3 8 8 3 8 8 3 8 8]]\n"
     ]
    }
   ],
   "source": [
    "a=np.random.randint(10,size=(2,3))\n",
    "print(a)\n",
    "print(\"axis=0连接\")\n",
    "print(np.concatenate((a,a,a), axis=0))\n",
    "print(\"axis=1连接\")\n",
    "print(np.concatenate((a,a,a), axis=1))"
   ]
  },
  {
   "cell_type": "markdown",
   "metadata": {},
   "source": [
    "# 获取矩阵元素1~5的坐标，根据查询结果，返回矩阵的shape是不定的"
   ]
  },
  {
   "cell_type": "code",
   "execution_count": 208,
   "metadata": {},
   "outputs": [
    {
     "name": "stdout",
     "output_type": "stream",
     "text": [
      "[[9 6 0]\n",
      " [3 5 3]]\n"
     ]
    },
    {
     "data": {
      "text/plain": [
       "(array([1, 1, 1], dtype=int64), array([0, 1, 2], dtype=int64))"
      ]
     },
     "execution_count": 208,
     "metadata": {},
     "output_type": "execute_result"
    }
   ],
   "source": [
    "a=np.random.randint(10,size=(2,3))\n",
    "print(a)\n",
    "np.where((a<=5)&(a>=1))"
   ]
  },
  {
   "cell_type": "markdown",
   "metadata": {},
   "source": [
    "# 获取x<=5的数据"
   ]
  },
  {
   "cell_type": "code",
   "execution_count": 209,
   "metadata": {},
   "outputs": [
    {
     "name": "stdout",
     "output_type": "stream",
     "text": [
      "[[6 2 8]\n",
      " [6 1 7]]\n"
     ]
    },
    {
     "data": {
      "text/plain": [
       "array([2, 1])"
      ]
     },
     "execution_count": 209,
     "metadata": {},
     "output_type": "execute_result"
    }
   ],
   "source": [
    "a=np.random.randint(10,size=(2,3))\n",
    "print(a)\n",
    "a[np.where(a<=5)]"
   ]
  },
  {
   "cell_type": "markdown",
   "metadata": {},
   "source": [
    "# 将小于5的元素赋值1，将其它元素赋值255"
   ]
  },
  {
   "cell_type": "code",
   "execution_count": 210,
   "metadata": {},
   "outputs": [
    {
     "name": "stdout",
     "output_type": "stream",
     "text": [
      "[[3 4 3]\n",
      " [4 4 7]]\n"
     ]
    },
    {
     "data": {
      "text/plain": [
       "array([[  1,   1,   1],\n",
       "       [  1,   1, 255]])"
      ]
     },
     "execution_count": 210,
     "metadata": {},
     "output_type": "execute_result"
    }
   ],
   "source": [
    "a=np.random.randint(10,size=(2,3))\n",
    "print(a)\n",
    "np.where(a < 5,1,255)"
   ]
  },
  {
   "cell_type": "code",
   "execution_count": null,
   "metadata": {
    "collapsed": true
   },
   "outputs": [],
   "source": []
  }
 ],
 "metadata": {
  "kernelspec": {
   "display_name": "Python 3",
   "language": "python",
   "name": "python3"
  },
  "language_info": {
   "codemirror_mode": {
    "name": "ipython",
    "version": 3
   },
   "file_extension": ".py",
   "mimetype": "text/x-python",
   "name": "python",
   "nbconvert_exporter": "python",
   "pygments_lexer": "ipython3",
   "version": "3.6.1"
  }
 },
 "nbformat": 4,
 "nbformat_minor": 2
}
