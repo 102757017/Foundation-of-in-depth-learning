{
 "cells": [
  {
   "cell_type": "code",
   "execution_count": 68,
   "metadata": {
    "collapsed": true
   },
   "outputs": [],
   "source": [
    "#!/usr/bin/python\n",
    "# -*- coding: UTF-8 -*-\n",
    "import numpy as np"
   ]
  },
  {
   "cell_type": "markdown",
   "metadata": {},
   "source": [
    "# 矩阵形状"
   ]
  },
  {
   "cell_type": "code",
   "execution_count": 69,
   "metadata": {},
   "outputs": [
    {
     "data": {
      "text/plain": [
       "(2, 3)"
      ]
     },
     "execution_count": 69,
     "metadata": {},
     "output_type": "execute_result"
    }
   ],
   "source": [
    "a=np.array([[1,2,3],[4,5,6]])\n",
    "a.shape"
   ]
  },
  {
   "cell_type": "markdown",
   "metadata": {},
   "source": [
    "# 矩阵维度"
   ]
  },
  {
   "cell_type": "code",
   "execution_count": 70,
   "metadata": {},
   "outputs": [
    {
     "data": {
      "text/plain": [
       "2"
      ]
     },
     "execution_count": 70,
     "metadata": {},
     "output_type": "execute_result"
    }
   ],
   "source": [
    "a=np.array([[1,2,3],[4,5,6]])\n",
    "a.ndim"
   ]
  },
  {
   "cell_type": "markdown",
   "metadata": {},
   "source": [
    "# 矩阵元素个数"
   ]
  },
  {
   "cell_type": "code",
   "execution_count": 71,
   "metadata": {},
   "outputs": [
    {
     "data": {
      "text/plain": [
       "6"
      ]
     },
     "execution_count": 71,
     "metadata": {},
     "output_type": "execute_result"
    }
   ],
   "source": [
    "a=np.array([[1,2,3],[4,5,6]])\n",
    "a.size"
   ]
  },
  {
   "cell_type": "markdown",
   "metadata": {},
   "source": [
    "# 矩阵数据类型\n",
    "uint8\t无符号整数（0 to 255）  \n",
    "int8\t字节（-128 to 127）  \n",
    "int16\t整数（-32768 to 32767）  \n",
    "int32\t整数（-2147483648 to 2147483647）  \n",
    "float16\t半精度浮点数，包括：1 个符号位，5 个指数位，10 个尾数位  \n",
    "float32\t单精度浮点数，包括：1 个符号位，8 个指数位，23 个尾数位  "
   ]
  },
  {
   "cell_type": "code",
   "execution_count": 72,
   "metadata": {},
   "outputs": [
    {
     "data": {
      "text/plain": [
       "dtype('int32')"
      ]
     },
     "execution_count": 72,
     "metadata": {},
     "output_type": "execute_result"
    }
   ],
   "source": [
    "a=np.array([[1,2,3],[4,5,6]])\n",
    "a.dtype"
   ]
  },
  {
   "cell_type": "markdown",
   "metadata": {},
   "source": [
    "# 创建随机数构成的矩阵，元素是5个"
   ]
  },
  {
   "cell_type": "code",
   "execution_count": 73,
   "metadata": {},
   "outputs": [
    {
     "name": "stdout",
     "output_type": "stream",
     "text": [
      "[0.43708397 0.59955795 0.697167   0.82377096 0.37199575]\n",
      "[[0.74256218 0.84366405]\n",
      " [0.93950574 0.49056882]\n",
      " [0.45035748 0.88170975]]\n"
     ]
    },
    {
     "data": {
      "text/plain": [
       "array([[5, 9, 2],\n",
       "       [4, 8, 6],\n",
       "       [5, 5, 1]])"
      ]
     },
     "execution_count": 73,
     "metadata": {},
     "output_type": "execute_result"
    }
   ],
   "source": [
    "print(np.random.rand(5))\n",
    "print(np.random.rand(3,2))\n",
    "#创建随机整数,low、high、size三个参数,省略low时默认low=0\n",
    "np.random.randint(1,10,size=(3,3))"
   ]
  },
  {
   "cell_type": "markdown",
   "metadata": {},
   "source": [
    "# 创建指定元素的矩阵"
   ]
  },
  {
   "cell_type": "code",
   "execution_count": 74,
   "metadata": {},
   "outputs": [
    {
     "data": {
      "text/plain": [
       "array([[1, 2, 3],\n",
       "       [4, 5, 6]])"
      ]
     },
     "execution_count": 74,
     "metadata": {},
     "output_type": "execute_result"
    }
   ],
   "source": [
    "np.array([[1,2,3],[4,5,6]])"
   ]
  },
  {
   "cell_type": "markdown",
   "metadata": {},
   "source": [
    "# 创建与范例一样shape的0矩阵"
   ]
  },
  {
   "cell_type": "code",
   "execution_count": 75,
   "metadata": {},
   "outputs": [
    {
     "data": {
      "text/plain": [
       "array([[0., 0., 0.],\n",
       "       [0., 0., 0.]])"
      ]
     },
     "execution_count": 75,
     "metadata": {},
     "output_type": "execute_result"
    }
   ],
   "source": [
    "a=np.array([[1,2,3],[4,5,6]])\n",
    "np.zeros_like(a, dtype=float)"
   ]
  },
  {
   "cell_type": "markdown",
   "metadata": {},
   "source": [
    "# 创建5*2的矩阵，用0填充"
   ]
  },
  {
   "cell_type": "code",
   "execution_count": 76,
   "metadata": {},
   "outputs": [
    {
     "data": {
      "text/plain": [
       "array([[0., 0.],\n",
       "       [0., 0.],\n",
       "       [0., 0.],\n",
       "       [0., 0.],\n",
       "       [0., 0.]])"
      ]
     },
     "execution_count": 76,
     "metadata": {},
     "output_type": "execute_result"
    }
   ],
   "source": [
    "np.zeros((5, 2), dtype=float)"
   ]
  },
  {
   "cell_type": "markdown",
   "metadata": {},
   "source": [
    "# 创建5*2的矩阵，用1填充"
   ]
  },
  {
   "cell_type": "code",
   "execution_count": 77,
   "metadata": {},
   "outputs": [
    {
     "data": {
      "text/plain": [
       "array([[1., 1.],\n",
       "       [1., 1.],\n",
       "       [1., 1.],\n",
       "       [1., 1.],\n",
       "       [1., 1.]])"
      ]
     },
     "execution_count": 77,
     "metadata": {},
     "output_type": "execute_result"
    }
   ],
   "source": [
    "np.ones((5, 2), dtype=float)"
   ]
  },
  {
   "cell_type": "markdown",
   "metadata": {},
   "source": [
    "# 创建5*2的空矩阵，仅仅分配矩阵所使用的内存，不对矩阵元素进行初始化操作，因此它的运行速度是最快的"
   ]
  },
  {
   "cell_type": "code",
   "execution_count": 78,
   "metadata": {},
   "outputs": [
    {
     "data": {
      "text/plain": [
       "array([[1., 1.],\n",
       "       [1., 1.],\n",
       "       [1., 1.],\n",
       "       [1., 1.],\n",
       "       [1., 1.]])"
      ]
     },
     "execution_count": 78,
     "metadata": {},
     "output_type": "execute_result"
    }
   ],
   "source": [
    "np.empty((5, 2))"
   ]
  },
  {
   "cell_type": "markdown",
   "metadata": {},
   "source": [
    "# 按照步长创建矩阵，默认步长为1"
   ]
  },
  {
   "cell_type": "code",
   "execution_count": 79,
   "metadata": {},
   "outputs": [
    {
     "data": {
      "text/plain": [
       "array([1, 2, 3, 4, 5])"
      ]
     },
     "execution_count": 79,
     "metadata": {},
     "output_type": "execute_result"
    }
   ],
   "source": [
    "np.arange(1,6)"
   ]
  },
  {
   "cell_type": "markdown",
   "metadata": {},
   "source": [
    "# 指定步长为2的等差数列"
   ]
  },
  {
   "cell_type": "code",
   "execution_count": 80,
   "metadata": {},
   "outputs": [
    {
     "data": {
      "text/plain": [
       "array([ 1,  3,  5,  7,  9, 11])"
      ]
     },
     "execution_count": 80,
     "metadata": {},
     "output_type": "execute_result"
    }
   ],
   "source": [
    "np.arange(1,12,2)"
   ]
  },
  {
   "cell_type": "markdown",
   "metadata": {},
   "source": [
    "# 指定元素个数为10个的等差数列"
   ]
  },
  {
   "cell_type": "code",
   "execution_count": 81,
   "metadata": {},
   "outputs": [
    {
     "data": {
      "text/plain": [
       "array([1.        , 1.55555556, 2.11111111, 2.66666667, 3.22222222,\n",
       "       3.77777778, 4.33333333, 4.88888889, 5.44444444, 6.        ])"
      ]
     },
     "execution_count": 81,
     "metadata": {},
     "output_type": "execute_result"
    }
   ],
   "source": [
    "np.linspace(1,6,10)"
   ]
  },
  {
   "cell_type": "markdown",
   "metadata": {
    "collapsed": true
   },
   "source": [
    "# 对矩阵进行从小到大的排序"
   ]
  },
  {
   "cell_type": "code",
   "execution_count": 82,
   "metadata": {},
   "outputs": [
    {
     "name": "stdout",
     "output_type": "stream",
     "text": [
      "[[9 9 2]\n",
      " [7 3 8]\n",
      " [2 4 6]]\n"
     ]
    },
    {
     "data": {
      "text/plain": [
       "array([[2, 3, 2],\n",
       "       [7, 4, 6],\n",
       "       [9, 9, 8]])"
      ]
     },
     "execution_count": 82,
     "metadata": {},
     "output_type": "execute_result"
    }
   ],
   "source": [
    "a=np.random.randint(10,size=(3,3))\n",
    "print(a)\n",
    "np.sort(a,axis=0)"
   ]
  },
  {
   "cell_type": "markdown",
   "metadata": {},
   "source": [
    "# 对矩阵进行从小到大的排序，返回对应的索引"
   ]
  },
  {
   "cell_type": "code",
   "execution_count": 83,
   "metadata": {},
   "outputs": [
    {
     "name": "stdout",
     "output_type": "stream",
     "text": [
      "[[5 8 3]\n",
      " [6 9 4]\n",
      " [6 0 5]]\n"
     ]
    },
    {
     "data": {
      "text/plain": [
       "array([[0, 2, 0],\n",
       "       [1, 0, 1],\n",
       "       [2, 1, 2]], dtype=int64)"
      ]
     },
     "execution_count": 83,
     "metadata": {},
     "output_type": "execute_result"
    }
   ],
   "source": [
    "a=np.random.randint(10,size=(3,3))\n",
    "print(a)\n",
    "np.argsort(a,axis=0)"
   ]
  },
  {
   "cell_type": "markdown",
   "metadata": {},
   "source": [
    "# 返回矩阵最大值的索引"
   ]
  },
  {
   "cell_type": "code",
   "execution_count": 84,
   "metadata": {},
   "outputs": [
    {
     "name": "stdout",
     "output_type": "stream",
     "text": [
      "[[0.51853738 0.5120777  0.80895996]\n",
      " [0.07660695 0.15318401 0.5903754 ]\n",
      " [0.02326655 0.57022913 0.25663538]]\n"
     ]
    },
    {
     "data": {
      "text/plain": [
       "array([0, 2, 0], dtype=int64)"
      ]
     },
     "execution_count": 84,
     "metadata": {},
     "output_type": "execute_result"
    }
   ],
   "source": [
    "a=np.random.rand(3,3)\n",
    "print(a)\n",
    "np.argmax(a,axis=0)"
   ]
  },
  {
   "cell_type": "markdown",
   "metadata": {},
   "source": [
    "# 使用切片方式获取的矩阵与原矩阵共享内存，修改一个另一个会同时变更"
   ]
  },
  {
   "cell_type": "code",
   "execution_count": 85,
   "metadata": {},
   "outputs": [
    {
     "name": "stdout",
     "output_type": "stream",
     "text": [
      "[0,:,:]表示第一个3维数组，相当于正方体的第一个切面 [[2 3 9 1 2]\n",
      " [4 3 5 8 6]\n",
      " [7 0 4 2 0]\n",
      " [1 9 1 1 0]\n",
      " [4 8 0 8 8]] \n",
      "\n",
      "[1:3,:,:]表示第2个到第4个的3维数组 [[[8 8 4 3 6]\n",
      "  [2 9 2 9 6]\n",
      "  [2 5 6 9 5]\n",
      "  [8 2 8 3 7]\n",
      "  [9 6 7 0 9]]\n",
      "\n",
      " [[0 0 4 7 4]\n",
      "  [2 8 8 5 1]\n",
      "  [5 6 7 5 8]\n",
      "  [9 9 0 4 6]\n",
      "  [5 7 9 8 2]]] \n",
      "\n"
     ]
    }
   ],
   "source": [
    "a=np.random.randint(10,size=(5,5,5))\n",
    "\n",
    "print(\"[0,:,:]表示第一个3维数组，相当于正方体的第一个切面\",a[0,:,:],'\\n')\n",
    "print(\"[1:3,:,:]表示第2个到第4个的3维数组\",a[1:3,:,:],'\\n')"
   ]
  },
  {
   "cell_type": "markdown",
   "metadata": {},
   "source": [
    "# 返回矩阵的一个复制,和原数组不共享内存"
   ]
  },
  {
   "cell_type": "code",
   "execution_count": 86,
   "metadata": {},
   "outputs": [
    {
     "data": {
      "text/plain": [
       "array([[3, 2],\n",
       "       [2, 6]])"
      ]
     },
     "execution_count": 86,
     "metadata": {},
     "output_type": "execute_result"
    }
   ],
   "source": [
    "a=np.random.randint(10,size=(2,2))\n",
    "a.copy()"
   ]
  },
  {
   "cell_type": "markdown",
   "metadata": {
    "collapsed": true
   },
   "source": [
    "# 转换数据类型"
   ]
  },
  {
   "cell_type": "code",
   "execution_count": 87,
   "metadata": {},
   "outputs": [
    {
     "name": "stdout",
     "output_type": "stream",
     "text": [
      "[[4 5]\n",
      " [1 0]]\n",
      "[[4. 5.]\n",
      " [1. 0.]]\n"
     ]
    }
   ],
   "source": [
    "a=np.random.randint(10,size=(2,2))\n",
    "print(a)\n",
    "print(a.astype(np.float32))"
   ]
  },
  {
   "cell_type": "markdown",
   "metadata": {},
   "source": [
    "# 浅层复制改变矩阵shape，(m,n,p) m*n*p等于原矩阵元素总个数\n",
    "#reshape()为浅层复制，创建的数组和原数组不共享内存，改变一个数组，另一个不会同时改变  \n",
    "参数-1表示该参数自动推算"
   ]
  },
  {
   "cell_type": "code",
   "execution_count": 88,
   "metadata": {},
   "outputs": [
    {
     "data": {
      "text/plain": [
       "array([[6, 9, 7, 5, 2],\n",
       "       [9, 3, 8, 1, 6],\n",
       "       [3, 0, 4, 4, 8],\n",
       "       [3, 8, 1, 7, 5],\n",
       "       [2, 9, 0, 2, 6],\n",
       "       [3, 1, 3, 9, 8],\n",
       "       [7, 5, 2, 0, 1],\n",
       "       [8, 2, 2, 9, 1],\n",
       "       [5, 1, 5, 2, 4],\n",
       "       [1, 9, 4, 5, 1],\n",
       "       [9, 2, 3, 2, 1],\n",
       "       [3, 2, 4, 3, 5],\n",
       "       [1, 6, 6, 1, 7],\n",
       "       [4, 1, 9, 2, 3],\n",
       "       [6, 9, 5, 1, 9],\n",
       "       [9, 4, 6, 1, 2],\n",
       "       [9, 5, 4, 3, 9],\n",
       "       [1, 8, 9, 2, 6]])"
      ]
     },
     "execution_count": 88,
     "metadata": {},
     "output_type": "execute_result"
    }
   ],
   "source": [
    "a=np.random.randint(10,size=(2,3,15))\n",
    "a.reshape(3,30)\n",
    "a.reshape(-1,5)"
   ]
  },
  {
   "cell_type": "markdown",
   "metadata": {},
   "source": [
    "# 深层复制改变矩阵shape，创建的矩阵和原矩阵共享内存，改变一个矩阵，另一个会同时改变"
   ]
  },
  {
   "cell_type": "code",
   "execution_count": 89,
   "metadata": {},
   "outputs": [
    {
     "name": "stdout",
     "output_type": "stream",
     "text": [
      "[[6 0 1 9 1]\n",
      " [7 2 3 1 9]\n",
      " [7 3 3 7 1]\n",
      " [4 2 2 0 3]\n",
      " [8 7 0 1 7]\n",
      " [1 4 5 9 3]]\n"
     ]
    }
   ],
   "source": [
    "a=np.random.randint(10,size=(2,15))\n",
    "a.resize(6,5)\n",
    "print(a)"
   ]
  },
  {
   "cell_type": "markdown",
   "metadata": {},
   "source": [
    "# 将原矩阵横向、纵向地复制，tile 是瓷砖的意思"
   ]
  },
  {
   "cell_type": "code",
   "execution_count": 90,
   "metadata": {},
   "outputs": [
    {
     "data": {
      "text/plain": [
       "array([[1, 0, 0],\n",
       "       [1, 0, 0],\n",
       "       [1, 0, 0],\n",
       "       [1, 0, 0]])"
      ]
     },
     "execution_count": 90,
     "metadata": {},
     "output_type": "execute_result"
    }
   ],
   "source": [
    "a=np.array([1,0,0])\n",
    "np.tile(a,(4,1))"
   ]
  },
  {
   "cell_type": "markdown",
   "metadata": {},
   "source": [
    "# 交换维度的顺序"
   ]
  },
  {
   "cell_type": "code",
   "execution_count": 91,
   "metadata": {},
   "outputs": [
    {
     "name": "stdout",
     "output_type": "stream",
     "text": [
      "(2, 3, 4)\n",
      "(3, 2, 4)\n"
     ]
    }
   ],
   "source": [
    "a=np.random.randint(10,size=(2,3,4))\n",
    "print(a.shape)\n",
    "b=a.transpose(1,0,2)\n",
    "print(b.shape)"
   ]
  },
  {
   "cell_type": "markdown",
   "metadata": {
    "collapsed": true
   },
   "source": [
    "# 元素顺序交换"
   ]
  },
  {
   "cell_type": "code",
   "execution_count": 92,
   "metadata": {
    "collapsed": true
   },
   "outputs": [],
   "source": [
    "rgb=np.ones((50,80,3),dtype=np.uint8)\n",
    "bgr=rgb[:,:,[2,1,0]]"
   ]
  },
  {
   "cell_type": "markdown",
   "metadata": {},
   "source": [
    "# 矩阵元素相加"
   ]
  },
  {
   "cell_type": "code",
   "execution_count": 93,
   "metadata": {},
   "outputs": [
    {
     "name": "stdout",
     "output_type": "stream",
     "text": [
      "[[8 8]\n",
      " [4 3]]\n"
     ]
    },
    {
     "data": {
      "text/plain": [
       "array([[16, 16],\n",
       "       [ 8,  6]])"
      ]
     },
     "execution_count": 93,
     "metadata": {},
     "output_type": "execute_result"
    }
   ],
   "source": [
    "a=np.random.randint(10,size=(2,2))\n",
    "print(a)\n",
    "a+a"
   ]
  },
  {
   "cell_type": "markdown",
   "metadata": {
    "collapsed": true
   },
   "source": [
    "# 数组元素相乘"
   ]
  },
  {
   "cell_type": "code",
   "execution_count": 94,
   "metadata": {},
   "outputs": [
    {
     "name": "stdout",
     "output_type": "stream",
     "text": [
      "[[3 6]\n",
      " [3 6]]\n"
     ]
    },
    {
     "data": {
      "text/plain": [
       "array([[ 9, 36],\n",
       "       [ 9, 36]])"
      ]
     },
     "execution_count": 94,
     "metadata": {},
     "output_type": "execute_result"
    }
   ],
   "source": [
    "a=np.random.randint(10,size=(2,2))\n",
    "print(a)\n",
    "a*a"
   ]
  },
  {
   "cell_type": "markdown",
   "metadata": {},
   "source": [
    "# 数组元素相除，返回精确的商"
   ]
  },
  {
   "cell_type": "code",
   "execution_count": 95,
   "metadata": {},
   "outputs": [
    {
     "data": {
      "text/plain": [
       "array([[0.16666667, 1.        ],\n",
       "       [0.4       , 1.25      ]])"
      ]
     },
     "execution_count": 95,
     "metadata": {},
     "output_type": "execute_result"
    }
   ],
   "source": [
    "a=np.random.randint(10,size=(2,2))\n",
    "b=np.random.randint(1,10,size=(2,2))\n",
    "a/b"
   ]
  },
  {
   "cell_type": "markdown",
   "metadata": {},
   "source": [
    "# 数组元素相除，返回值取整"
   ]
  },
  {
   "cell_type": "code",
   "execution_count": 96,
   "metadata": {},
   "outputs": [
    {
     "data": {
      "text/plain": [
       "array([[0, 1],\n",
       "       [0, 1]], dtype=int32)"
      ]
     },
     "execution_count": 96,
     "metadata": {},
     "output_type": "execute_result"
    }
   ],
   "source": [
    "a=np.random.randint(10,size=(2,2))\n",
    "b=np.random.randint(10,size=(2,2))\n",
    "a//b"
   ]
  },
  {
   "cell_type": "markdown",
   "metadata": {},
   "source": [
    "# 矩阵元素进行逻辑运算生成布尔数组\n",
    "可以使用的逻辑运算符号有<,<=,>,>=,==,!="
   ]
  },
  {
   "cell_type": "code",
   "execution_count": 97,
   "metadata": {},
   "outputs": [
    {
     "name": "stdout",
     "output_type": "stream",
     "text": [
      "[[5 3]\n",
      " [0 8]]\n"
     ]
    },
    {
     "data": {
      "text/plain": [
       "array([[ True, False],\n",
       "       [False,  True]])"
      ]
     },
     "execution_count": 97,
     "metadata": {},
     "output_type": "execute_result"
    }
   ],
   "source": [
    "a=np.random.randint(10,size=(2,2))\n",
    "print(a)\n",
    "a>3"
   ]
  },
  {
   "cell_type": "markdown",
   "metadata": {},
   "source": [
    "# 矩阵转置"
   ]
  },
  {
   "cell_type": "code",
   "execution_count": 98,
   "metadata": {},
   "outputs": [
    {
     "name": "stdout",
     "output_type": "stream",
     "text": [
      "[[9 1 0]\n",
      " [1 5 2]]\n"
     ]
    },
    {
     "data": {
      "text/plain": [
       "array([[9, 1],\n",
       "       [1, 5],\n",
       "       [0, 2]])"
      ]
     },
     "execution_count": 98,
     "metadata": {},
     "output_type": "execute_result"
    }
   ],
   "source": [
    "a=np.random.randint(10,size=(2,3))\n",
    "print(a)\n",
    "a.T"
   ]
  },
  {
   "cell_type": "markdown",
   "metadata": {},
   "source": [
    "# 矩阵连接"
   ]
  },
  {
   "cell_type": "code",
   "execution_count": 99,
   "metadata": {},
   "outputs": [
    {
     "name": "stdout",
     "output_type": "stream",
     "text": [
      "[[0 6 4]\n",
      " [7 7 6]]\n",
      "axis=0连接\n",
      "[[0 6 4]\n",
      " [7 7 6]\n",
      " [0 6 4]\n",
      " [7 7 6]\n",
      " [0 6 4]\n",
      " [7 7 6]]\n",
      "axis=1连接\n",
      "[[0 6 4 0 6 4 0 6 4]\n",
      " [7 7 6 7 7 6 7 7 6]]\n"
     ]
    }
   ],
   "source": [
    "a=np.random.randint(10,size=(2,3))\n",
    "print(a)\n",
    "print(\"axis=0连接\")\n",
    "print(np.concatenate((a,a,a), axis=0))\n",
    "print(\"axis=1连接\")\n",
    "print(np.concatenate((a,a,a), axis=1))"
   ]
  },
  {
   "cell_type": "markdown",
   "metadata": {},
   "source": [
    "# 获取矩阵元素1~5的坐标，根据查询结果，返回矩阵的shape是不定的"
   ]
  },
  {
   "cell_type": "code",
   "execution_count": 100,
   "metadata": {},
   "outputs": [
    {
     "name": "stdout",
     "output_type": "stream",
     "text": [
      "[[6 9 7]\n",
      " [5 4 6]]\n"
     ]
    },
    {
     "data": {
      "text/plain": [
       "(array([1, 1], dtype=int64), array([0, 1], dtype=int64))"
      ]
     },
     "execution_count": 100,
     "metadata": {},
     "output_type": "execute_result"
    }
   ],
   "source": [
    "a=np.random.randint(10,size=(2,3))\n",
    "print(a)\n",
    "np.where((a<=5)&(a>=1))"
   ]
  },
  {
   "cell_type": "markdown",
   "metadata": {},
   "source": [
    "# 获取x<=5的数据"
   ]
  },
  {
   "cell_type": "code",
   "execution_count": 101,
   "metadata": {},
   "outputs": [
    {
     "name": "stdout",
     "output_type": "stream",
     "text": [
      "[[7 8 0]\n",
      " [9 5 2]]\n"
     ]
    },
    {
     "data": {
      "text/plain": [
       "array([0, 5, 2])"
      ]
     },
     "execution_count": 101,
     "metadata": {},
     "output_type": "execute_result"
    }
   ],
   "source": [
    "a=np.random.randint(10,size=(2,3))\n",
    "print(a)\n",
    "a[np.where(a<=5)]"
   ]
  },
  {
   "cell_type": "markdown",
   "metadata": {},
   "source": [
    "# 将小于5的元素赋值1，将其它元素赋值255"
   ]
  },
  {
   "cell_type": "code",
   "execution_count": 102,
   "metadata": {},
   "outputs": [
    {
     "name": "stdout",
     "output_type": "stream",
     "text": [
      "[[2 8 5]\n",
      " [9 9 9]]\n",
      "[[  1 255 255]\n",
      " [255 255 255]]\n"
     ]
    },
    {
     "data": {
      "text/plain": [
       "array([[1, 8, 5],\n",
       "       [9, 9, 9]])"
      ]
     },
     "execution_count": 102,
     "metadata": {},
     "output_type": "execute_result"
    }
   ],
   "source": [
    "a=np.random.randint(10,size=(2,3))\n",
    "print(a)\n",
    "b=np.where(a < 5,1,255)\n",
    "print(b)\n",
    "#将小于5的元素赋值1，将其它元素不变\n",
    "np.where(a < 5,1,a)"
   ]
  },
  {
   "cell_type": "markdown",
   "metadata": {},
   "source": [
    "# 数据离散化\n",
    "#bin是区间数据，必须为递增数列或递减数列。\n",
    "#data为要判别的数据\n",
    "#np.disitize返回值为数据在第几个区间"
   ]
  },
  {
   "cell_type": "code",
   "execution_count": 104,
   "metadata": {},
   "outputs": [
    {
     "name": "stdout",
     "output_type": "stream",
     "text": [
      "返回数据在第几个区间\n",
      "[1 4 3 2] \n",
      "\n"
     ]
    }
   ],
   "source": [
    "data=np.array([0.2,6.4,3.0,1.6])\n",
    "bins=np.array([0,1,2.5,4,10])\n",
    "cats=np.digitize(data,bins)\n",
    "print(cats,'\\n')"
   ]
  }
 ],
 "metadata": {
  "kernelspec": {
   "display_name": "Python 3",
   "language": "python",
   "name": "python3"
  },
  "language_info": {
   "codemirror_mode": {
    "name": "ipython",
    "version": 3
   },
   "file_extension": ".py",
   "mimetype": "text/x-python",
   "name": "python",
   "nbconvert_exporter": "python",
   "pygments_lexer": "ipython3",
   "version": "3.6.1"
  }
 },
 "nbformat": 4,
 "nbformat_minor": 2
}
