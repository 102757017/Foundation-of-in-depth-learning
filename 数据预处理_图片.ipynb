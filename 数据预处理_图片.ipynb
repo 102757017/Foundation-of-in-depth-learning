{
 "cells": [
  {
   "cell_type": "code",
   "execution_count": 1,
   "metadata": {},
   "outputs": [
    {
     "name": "stderr",
     "output_type": "stream",
     "text": [
      "Using TensorFlow backend.\n"
     ]
    }
   ],
   "source": [
    "#!/usr/bin/python\n",
    "# -*- coding: UTF-8 -*-\n",
    "from keras.preprocessing.image import ImageDataGenerator\n",
    "import sys\n",
    "import os\n",
    "from matplotlib import pyplot as plt\n",
    "%matplotlib widget\n",
    "\n",
    "os.chdir(sys.path[0])"
   ]
  },
  {
   "cell_type": "markdown",
   "metadata": {},
   "source": [
    "# 对numpy矩阵序列中的图片进行预处理"
   ]
  },
  {
   "cell_type": "code",
   "execution_count": 3,
   "metadata": {},
   "outputs": [
    {
     "name": "stdout",
     "output_type": "stream",
     "text": [
      "Total training examples: 50000\n",
      "Total test examples: 10000\n"
     ]
    },
    {
     "data": {
      "application/vnd.jupyter.widget-view+json": {
       "model_id": "60dc52416e51497abb2cd6ea44963513",
       "version_major": 2,
       "version_minor": 0
      },
      "text/plain": [
       "Canvas(toolbar=Toolbar(toolitems=[('Home', 'Reset original view', 'home', 'home'), ('Back', 'Back to previous …"
      ]
     },
     "metadata": {},
     "output_type": "display_data"
    }
   ],
   "source": [
    "import numpy as np\n",
    "import matplotlib.pyplot as plt\n",
    "from imgaug import augmenters as iaa\n",
    "import imgaug as ia\n",
    "from keras.datasets import cifar10\n",
    "from keras.datasets import mnist\n",
    "import tensorflow as tf\n",
    "\n",
    "#显示前9张图片\n",
    "def show(img):\n",
    "    fig=plt.figure()\n",
    "    for i in range(9):\n",
    "        plt.subplot(3,3,i+1)\n",
    "        plt.imshow(img[i])\n",
    "\n",
    "\n",
    "(x_train, y_train), (x_test, y_test) = cifar10.load_data()\n",
    "print(f\"Total training examples: {len(x_train)}\")\n",
    "print(f\"Total test examples: {len(x_test)}\")\n",
    "show(x_test)"
   ]
  },
  {
   "cell_type": "markdown",
   "metadata": {},
   "source": [
    "### 单通道图片转换为3通道图片"
   ]
  },
  {
   "cell_type": "code",
   "execution_count": 6,
   "metadata": {},
   "outputs": [
    {
     "name": "stdout",
     "output_type": "stream",
     "text": [
      "(60000, 28, 28, 3)\n"
     ]
    }
   ],
   "source": [
    "(x_train, y_train), (x_test, y_test) = mnist.load_data()\n",
    "#mnist需要转换为3通道图片\n",
    "x_train=np.stack((x_train,)*3, axis=-1)\n",
    "x_test=np.stack((x_test,)*3, axis=-1)\n",
    "print(x_train.shape)"
   ]
  },
  {
   "cell_type": "markdown",
   "metadata": {},
   "source": [
    "### 更改图片的颜色空间\n",
    "单通道的灰度图片无法用该函数转换为彩色图片  \n",
    "转换为GRAY后，输出通道的数量仍然是3，该增强器仅“消除”了颜色  \n",
    "#可选参数: RGB, BGR, GRAY, CIE, YCrCb, HSV, HLS, Lab, Luv  "
   ]
  },
  {
   "cell_type": "code",
   "execution_count": 7,
   "metadata": {},
   "outputs": [
    {
     "name": "stdout",
     "output_type": "stream",
     "text": [
      "(10000, 28, 28, 3)\n"
     ]
    },
    {
     "data": {
      "application/vnd.jupyter.widget-view+json": {
       "model_id": "42aa2df7ed32439e9794eb510d47721f",
       "version_major": 2,
       "version_minor": 0
      },
      "text/plain": [
       "Canvas(toolbar=Toolbar(toolitems=[('Home', 'Reset original view', 'home', 'home'), ('Back', 'Back to previous …"
      ]
     },
     "metadata": {},
     "output_type": "display_data"
    }
   ],
   "source": [
    "seq = iaa.Sequential([iaa.ChangeColorspace(from_colorspace ='RGB',to_colorspace ='GRAY')])\n",
    "x=seq.augment_images(x_test)\n",
    "print(x.shape)\n",
    "show(x)"
   ]
  },
  {
   "cell_type": "markdown",
   "metadata": {},
   "source": [
    "### 图片缩放"
   ]
  },
  {
   "cell_type": "code",
   "execution_count": 8,
   "metadata": {},
   "outputs": [
    {
     "data": {
      "application/vnd.jupyter.widget-view+json": {
       "model_id": "bb93f41e34e042308f2024162dadee60",
       "version_major": 2,
       "version_minor": 0
      },
      "text/plain": [
       "Canvas(toolbar=Toolbar(toolitems=[('Home', 'Reset original view', 'home', 'home'), ('Back', 'Back to previous …"
      ]
     },
     "metadata": {},
     "output_type": "display_data"
    }
   ],
   "source": [
    "#缩放到指定分辨率\n",
    "seq = iaa.Sequential([iaa.Resize({\"height\": 100, \"width\": 100})])\n",
    "#随机缩放到50%~100%分辨率，保持长、宽比例不变，多余部分填充黑色\n",
    "#seq = iaa.Sequential([iaa.Resize((0.5, 1.0))])\n",
    "x=seq.augment_images(x_test)\n",
    "show(x)"
   ]
  },
  {
   "cell_type": "markdown",
   "metadata": {},
   "source": [
    "### 随机裁剪"
   ]
  },
  {
   "cell_type": "code",
   "execution_count": 9,
   "metadata": {},
   "outputs": [
    {
     "data": {
      "application/vnd.jupyter.widget-view+json": {
       "model_id": "9314e34c317443a18eb9a745c833f7e7",
       "version_major": 2,
       "version_minor": 0
      },
      "text/plain": [
       "Canvas(toolbar=Toolbar(toolitems=[('Home', 'Reset original view', 'home', 'home'), ('Back', 'Back to previous …"
      ]
     },
     "metadata": {},
     "output_type": "display_data"
    }
   ],
   "source": [
    "seq = iaa.Sequential([iaa.Crop(percent = (0, 0.3))])\n",
    "x=seq.augment_images(x_test)\n",
    "show(x)"
   ]
  },
  {
   "cell_type": "markdown",
   "metadata": {},
   "source": [
    "### 随机移动"
   ]
  },
  {
   "cell_type": "code",
   "execution_count": 10,
   "metadata": {},
   "outputs": [
    {
     "data": {
      "application/vnd.jupyter.widget-view+json": {
       "model_id": "cf76c0f3688644faa1581ee939467f5b",
       "version_major": 2,
       "version_minor": 0
      },
      "text/plain": [
       "Canvas(toolbar=Toolbar(toolitems=[('Home', 'Reset original view', 'home', 'home'), ('Back', 'Back to previous …"
      ]
     },
     "metadata": {},
     "output_type": "display_data"
    }
   ],
   "source": [
    "seq = iaa.Sequential([iaa.Affine(translate_percent={'x':(-0.1,0.1), 'y':(-0.1,0.1)})])\n",
    "x=seq.augment_images(x_test)\n",
    "show(x)"
   ]
  },
  {
   "cell_type": "markdown",
   "metadata": {},
   "source": [
    "### 随机旋转"
   ]
  },
  {
   "cell_type": "code",
   "execution_count": 11,
   "metadata": {},
   "outputs": [
    {
     "data": {
      "application/vnd.jupyter.widget-view+json": {
       "model_id": "efa47a04ea9443f1a756b3ea84cf63cd",
       "version_major": 2,
       "version_minor": 0
      },
      "text/plain": [
       "Canvas(toolbar=Toolbar(toolitems=[('Home', 'Reset original view', 'home', 'home'), ('Back', 'Back to previous …"
      ]
     },
     "metadata": {},
     "output_type": "display_data"
    }
   ],
   "source": [
    "seq = iaa.Sequential([iaa.Affine(rotate=(-25, 25))])\n",
    "x=seq.augment_images(x_test)\n",
    "show(x)"
   ]
  },
  {
   "cell_type": "markdown",
   "metadata": {},
   "source": [
    "### 翻转"
   ]
  },
  {
   "cell_type": "code",
   "execution_count": 12,
   "metadata": {},
   "outputs": [
    {
     "data": {
      "application/vnd.jupyter.widget-view+json": {
       "model_id": "f9f4351a8b084807bb230e1861fcc978",
       "version_major": 2,
       "version_minor": 0
      },
      "text/plain": [
       "Canvas(toolbar=Toolbar(toolitems=[('Home', 'Reset original view', 'home', 'home'), ('Back', 'Back to previous …"
      ]
     },
     "metadata": {},
     "output_type": "display_data"
    }
   ],
   "source": [
    "#水平翻转\n",
    "seq = iaa.Sequential([iaa.Fliplr(0.5)])\n",
    "#垂直翻转\n",
    "seq = iaa.Sequential([iaa.Flipud(0.5)])\n",
    "x=seq.augment_images(x_test)\n",
    "show(x)"
   ]
  },
  {
   "cell_type": "markdown",
   "metadata": {},
   "source": [
    "### 随机切边"
   ]
  },
  {
   "cell_type": "code",
   "execution_count": 13,
   "metadata": {},
   "outputs": [
    {
     "data": {
      "application/vnd.jupyter.widget-view+json": {
       "model_id": "fee494113c8f401d8d355ed2c72d9b33",
       "version_major": 2,
       "version_minor": 0
      },
      "text/plain": [
       "Canvas(toolbar=Toolbar(toolitems=[('Home', 'Reset original view', 'home', 'home'), ('Back', 'Back to previous …"
      ]
     },
     "metadata": {},
     "output_type": "display_data"
    }
   ],
   "source": [
    "seq = iaa.Sequential([iaa.Affine(shear=(-20, 20))])\n",
    "x=seq.augment_images(x_test)\n",
    "show(x)"
   ]
  },
  {
   "cell_type": "markdown",
   "metadata": {},
   "source": [
    "### 随机色彩抖动"
   ]
  },
  {
   "cell_type": "code",
   "execution_count": 14,
   "metadata": {},
   "outputs": [
    {
     "data": {
      "application/vnd.jupyter.widget-view+json": {
       "model_id": "7b13458f362c401caadc012edcb50874",
       "version_major": 2,
       "version_minor": 0
      },
      "text/plain": [
       "Canvas(toolbar=Toolbar(toolitems=[('Home', 'Reset original view', 'home', 'home'), ('Back', 'Back to previous …"
      ]
     },
     "metadata": {},
     "output_type": "display_data"
    }
   ],
   "source": [
    "seq = iaa.Sequential([iaa.Multiply((0.1, 1.5))])\n",
    "x=seq.augment_images(x_test)\n",
    "show(x)"
   ]
  },
  {
   "cell_type": "markdown",
   "metadata": {},
   "source": [
    "### 随机改变对比度"
   ]
  },
  {
   "cell_type": "code",
   "execution_count": 15,
   "metadata": {},
   "outputs": [
    {
     "data": {
      "application/vnd.jupyter.widget-view+json": {
       "model_id": "62add2d0a9c34c7882576f0dca22b361",
       "version_major": 2,
       "version_minor": 0
      },
      "text/plain": [
       "Canvas(toolbar=Toolbar(toolitems=[('Home', 'Reset original view', 'home', 'home'), ('Back', 'Back to previous …"
      ]
     },
     "metadata": {},
     "output_type": "display_data"
    }
   ],
   "source": [
    "seq = iaa.Sequential([iaa.contrast.LinearContrast((0.75, 1.5))])\n",
    "x=seq.augment_images(x_test)\n",
    "show(x)"
   ]
  },
  {
   "cell_type": "markdown",
   "metadata": {},
   "source": [
    "### 随机噪点"
   ]
  },
  {
   "cell_type": "code",
   "execution_count": 16,
   "metadata": {},
   "outputs": [
    {
     "data": {
      "application/vnd.jupyter.widget-view+json": {
       "model_id": "ae43f6f68b45462cbe2353f436669001",
       "version_major": 2,
       "version_minor": 0
      },
      "text/plain": [
       "Canvas(toolbar=Toolbar(toolitems=[('Home', 'Reset original view', 'home', 'home'), ('Back', 'Back to previous …"
      ]
     },
     "metadata": {},
     "output_type": "display_data"
    }
   ],
   "source": [
    "seq = iaa.Sequential([iaa.SaltAndPepper(p=(0, 0.1))])\n",
    "x=seq.augment_images(x_test)\n",
    "show(x)"
   ]
  },
  {
   "cell_type": "markdown",
   "metadata": {},
   "source": [
    "## 手动定制多种增强的组合"
   ]
  },
  {
   "cell_type": "code",
   "execution_count": 17,
   "metadata": {},
   "outputs": [
    {
     "data": {
      "application/vnd.jupyter.widget-view+json": {
       "model_id": "578277ac822e42a78fab36c870dd95fc",
       "version_major": 2,
       "version_minor": 0
      },
      "text/plain": [
       "Canvas(toolbar=Toolbar(toolitems=[('Home', 'Reset original view', 'home', 'home'), ('Back', 'Back to previous …"
      ]
     },
     "metadata": {},
     "output_type": "display_data"
    }
   ],
   "source": [
    "seq = iaa.Sequential([\n",
    "    iaa.Crop(px=(0, 16)),\n",
    "    iaa.Fliplr(0.5), \n",
    "    iaa.GaussianBlur(sigma=(0, 3.0)) \n",
    "])\n",
    "\n",
    "(x_train, y_train), (x_test, y_test) = cifar10.load_data()\n",
    "x=seq.augment_images(x_test)\n",
    "show(x)"
   ]
  },
  {
   "cell_type": "markdown",
   "metadata": {},
   "source": [
    "## 自动定制多种增强的组合"
   ]
  },
  {
   "cell_type": "code",
   "execution_count": 18,
   "metadata": {},
   "outputs": [
    {
     "data": {
      "application/vnd.jupyter.widget-view+json": {
       "model_id": "ed81a126fafd49b8b500387387153612",
       "version_major": 2,
       "version_minor": 0
      },
      "text/plain": [
       "Canvas(toolbar=Toolbar(toolitems=[('Home', 'Reset original view', 'home', 'home'), ('Back', 'Back to previous …"
      ]
     },
     "metadata": {},
     "output_type": "display_data"
    }
   ],
   "source": [
    "seq = iaa.RandAugment(n=3, m=7)\n",
    "(x_train, y_train), (x_test, y_test) = cifar10.load_data()\n",
    "x=seq.augment_images(x_test)\n",
    "show(x)"
   ]
  },
  {
   "cell_type": "markdown",
   "metadata": {},
   "source": [
    "## 归一化"
   ]
  },
  {
   "cell_type": "code",
   "execution_count": 19,
   "metadata": {},
   "outputs": [
    {
     "data": {
      "application/vnd.jupyter.widget-view+json": {
       "model_id": "53c99cdebf3b4afcb6b450d819027650",
       "version_major": 2,
       "version_minor": 0
      },
      "text/plain": [
       "Canvas(toolbar=Toolbar(toolitems=[('Home', 'Reset original view', 'home', 'home'), ('Back', 'Back to previous …"
      ]
     },
     "metadata": {},
     "output_type": "display_data"
    }
   ],
   "source": [
    "#将数据转换为浮点数,将输入数组中的数据转换为0~1之间的数\n",
    "x=x_test.astype('float32')/255\n",
    "show(x)"
   ]
  },
  {
   "cell_type": "markdown",
   "metadata": {},
   "source": [
    "# 创建图片生成器"
   ]
  },
  {
   "cell_type": "markdown",
   "metadata": {},
   "source": [
    "##  使用文件夹中的图片创建图片生成器\n",
    "生成数据集使用flow_from_directory，参数如下  \n",
    "target_size:将图片转换为此分辨率\n",
    "color_mode：\"grayscale\", \"rgb\" 之一  \n",
    "classe:可选的类的子目录列表（例如 ['dogs', 'cats']）。默认：None。如果未提供，类的列表将自动从 directory 下的 子目录名称/结构 中推断出来，其中每个子目录都将被作为不同的类（类名将按字典序映射到标签的索引）。包含从类名到类索引的映射的字典可以通过 class_indices 属性获得。  \n",
    "class_mode:\"categorical\", \"binary\", \"sparse\", \"input\" 或 None 之一。\"categorical\" 是独热编码，\"sparse\" 是整数标签，\"input\" 将是与输入图像相同的图像（主要用于自动编码器）。如果为 None，不返回标签  \n",
    "shuffle:是否混洗数据（默认 True）  \n",
    "save_to_dir:None 或 字符串（默认 None）。这使你可以最佳地指定正在生成的增强图片要保存的目录（用于可视化你在做什么）  \n",
    "interpolation:图像缩放时的插值方法，支持的方法有 \"nearest\", 双线性\"bilinear\", 双三次\"bicubic\"。如果安装了 3.4.0 以上版本的 PIL 的话，支持 \"box\" 和 \"hamming\"。  "
   ]
  },
  {
   "cell_type": "code",
   "execution_count": 22,
   "metadata": {},
   "outputs": [
    {
     "name": "stdout",
     "output_type": "stream",
     "text": [
      "Found 50 images belonging to 10 classes.\n",
      "{'0': 0, '1': 1, '2': 2, '3': 3, '4': 4, '5': 5, '6': 6, '7': 7, '8': 8, '9': 9}\n"
     ]
    }
   ],
   "source": [
    "from keras.preprocessing.image import ImageDataGenerator\n",
    "import matplotlib.pyplot as plt\n",
    "from imgaug import augmenters as iaa\n",
    "\n",
    "seq = iaa.Sequential([iaa.Affine(rotate=(-25, 25))])\n",
    "ig = ImageDataGenerator(preprocessing_function=seq.augment_image)\n",
    "train_generator=ig.flow_from_directory(directory=\"images\",target_size=(100, 100),color_mode='grayscale',class_mode='categorical',batch_size=32,shuffle=True,save_to_dir=None,interpolation='hamming')\n",
    "print(train_generator.class_indices)"
   ]
  },
  {
   "cell_type": "code",
   "execution_count": 23,
   "metadata": {},
   "outputs": [
    {
     "name": "stdout",
     "output_type": "stream",
     "text": [
      "(32, 100, 100, 1)\n",
      "(32, 10)\n"
     ]
    },
    {
     "data": {
      "application/vnd.jupyter.widget-view+json": {
       "model_id": "87057c8f9b57402f875178e3bca5dee6",
       "version_major": 2,
       "version_minor": 0
      },
      "text/plain": [
       "Canvas(toolbar=Toolbar(toolitems=[('Home', 'Reset original view', 'home', 'home'), ('Back', 'Back to previous …"
      ]
     },
     "metadata": {},
     "output_type": "display_data"
    }
   ],
   "source": [
    "#一个batch的数据\n",
    "x=train_generator[0][0]\n",
    "y=train_generator[0][1]\n",
    "print(x.shape)\n",
    "print(y.shape)\n",
    "\n",
    "# matplotlib不能直接显示灰度图，必须将通道的维度去掉\n",
    "show(x[:,:,:,0])"
   ]
  },
  {
   "cell_type": "markdown",
   "metadata": {},
   "source": [
    "## 使用numpy数据集创建生成器"
   ]
  },
  {
   "cell_type": "code",
   "execution_count": 21,
   "metadata": {},
   "outputs": [
    {
     "data": {
      "application/vnd.jupyter.widget-view+json": {
       "model_id": "9adab47511634f5e8c1fad64a66469f8",
       "version_major": 2,
       "version_minor": 0
      },
      "text/plain": [
       "Canvas(toolbar=Toolbar(toolitems=[('Home', 'Reset original view', 'home', 'home'), ('Back', 'Back to previous …"
      ]
     },
     "metadata": {},
     "output_type": "display_data"
    }
   ],
   "source": [
    "from keras.preprocessing.image import ImageDataGenerator\n",
    "\n",
    "(x_train, y_train), (x_test, y_test) = cifar10.load_data()\n",
    "seq = iaa.Sequential([\n",
    "  iaa.Fliplr(0.5),\n",
    "  iaa.Resize({\"height\": 96, \"width\": 96})\n",
    "])\n",
    "\n",
    "\n",
    "#ImageDataGenerator处理过的图片数据类型会变成float32\n",
    "#featurewise_center:featurewise_center：布尔值，使输入数据集去中心化（均值为0）\n",
    "#featurewise_std_normalization：布尔值，将输入除以数据集的标准差以完成标准化, 按feature执行。\n",
    "#rescale: 值将在执行其他处理前乘到整个图像上，我们的图像在RGB通道都是0~255的整数，这样的操作可能使图像的值过高或过低，所以我们将这个值定为0~1之间的数。\n",
    "ig = ImageDataGenerator(featurewise_center=False,featurewise_std_normalization=False,rescale=1./255)\n",
    "#shuffle:对输入数据打乱顺序\n",
    "generator=ig.flow(seq.augment_images(x_test),y_test,batch_size=50,shuffle=True)\n",
    "#第一个序号为batch序号\n",
    "x=generator[0][0]\n",
    "y=generator[0][1]\n",
    "show(x)"
   ]
  },
  {
   "cell_type": "markdown",
   "metadata": {},
   "source": [
    "# 在训练中使用生成器"
   ]
  },
  {
   "cell_type": "markdown",
   "metadata": {},
   "source": [
    "## fit_generator\n",
    "generator：一个生成器，或者一个 Sequence (keras.utils.Sequence) 对象的实例。这是我们实现的重点，后面会着介绍生成器和sequence的两种实现方式。  \n",
    "steps_per_epoch：这个是我们在每个epoch中需要执行多少次生成器来生产数据，fit_generator函数没有batch_size这个参数，是通过steps_per_epoch来实现的，每次生产的数据就是一个batch，因此steps_per_epoch的值我们通过会设为（样本数/batch_size）。如果我们的generator是sequence类型，那么这个参数是可选的，默认使用len(generator) 。  \n",
    "epochs：即我们训练的迭代次数。  \n",
    "verbose：0, 1 或 2。日志显示模式。 0 = 安静模式, 1 = 进度条, 2 = 每轮一行  \n",
    "callbacks：在训练时调用的一系列回调函数。  \n",
    "validation_data：和我们的generator类似，只是这个使用于验证的，不参与训练。  \n",
    "validation_steps：和前面的steps_per_epoch类似。  \n",
    "class_weight：可选的将类索引（整数）映射到权重（浮点）值的字典，用于加权损失函数（仅在训练期间）。 这可以用来告诉模型「更多地关注」来自代表性不足的类的样本。（感觉这个参数用的比较少）  \n",
    "max_queue_size：整数。生成器队列的最大尺寸。默认为10.  \n",
    "workers：整数。使用的最大进程数量，如果使用基于进程的多线程。 如未指定，workers 将默认为 1。如果为 0，将在主线程上执行生成器。  \n",
    "use_multiprocessing：布尔值。如果 True，则使用基于进程的多线程。默认为False。  \n",
    "shuffle：是否在每轮迭代之前打乱 batch 的顺序。 只能与Sequence(keras.utils.Sequence) 实例同用。  \n",
    "initial_epoch: 开始训练的轮次（有助于恢复之前的训练）  "
   ]
  },
  {
   "cell_type": "code",
   "execution_count": 21,
   "metadata": {},
   "outputs": [
    {
     "data": {
      "text/plain": [
       "'\\nmodle.fit_generator(generator, \\n                    steps_per_epoch=None,\\n                    epochs=1, \\n                    verbose=1, \\n                    callbacks=None, \\n                    validation_data=None, \\n                    validation_steps=None, \\n                    class_weight=None, \\n                    max_queue_size=10, \\n                    workers=2, \\n                    use_multiprocessing=True, \\n                    shuffle=True, \\n                    initial_epoch=0)\\n'"
      ]
     },
     "execution_count": 21,
     "metadata": {},
     "output_type": "execute_result"
    }
   ],
   "source": [
    "'''\n",
    "modle.fit_generator(generator, \n",
    "                    steps_per_epoch=None,\n",
    "                    epochs=1, \n",
    "                    verbose=1, \n",
    "                    callbacks=None, \n",
    "                    validation_data=None, \n",
    "                    validation_steps=None, \n",
    "                    class_weight=None, \n",
    "                    max_queue_size=10, \n",
    "                    workers=2, \n",
    "                    use_multiprocessing=True, \n",
    "                    shuffle=True, \n",
    "                    initial_epoch=0)\n",
    "'''"
   ]
  },
  {
   "cell_type": "markdown",
   "metadata": {},
   "source": [
    "## train_on_batch\n",
    "适用于GAN的训练"
   ]
  },
  {
   "cell_type": "code",
   "execution_count": 5,
   "metadata": {},
   "outputs": [
    {
     "name": "stdout",
     "output_type": "stream",
     "text": [
      "(10000, 32, 32, 3) (10000, 32, 32, 3)\n"
     ]
    }
   ],
   "source": [
    "#在x_train中随机抽取与x_test一样多的数据\n",
    "idx = np.random.randint(0, x_train.shape[0], x_test.shape[0])\n",
    "x_train = x_train[idx]\n",
    "y_train = y_train[idx]\n",
    "print(x_train.shape,x_test.shape)\n",
    "\n",
    "\n",
    "epoch=1\n",
    "batch_size=50\n",
    "batchs=int(x_train.shape[0]/batch_size)\n",
    "for e in range(epoch):\n",
    "    g_train=ig.flow(seq.augment_images(x_train),y_train,batch_size=batch_size)\n",
    "    g_test=ig.flow(seq.augment_images(x_test),y_test,batch_size=batch_size)\n",
    "    for i in range(batchs):\n",
    "        pass\n",
    "        #model1.train_on_batch(x=g_train[i][0],y=g_train[i][1])\n",
    "        #model2.train_on_batch(x=g_test[i][0],y=g_test[i][1])\n"
   ]
  },
  {
   "cell_type": "code",
   "execution_count": null,
   "metadata": {},
   "outputs": [],
   "source": []
  }
 ],
 "metadata": {
  "kernelspec": {
   "display_name": "Python 3.7.7 64-bit ('base': conda)",
   "language": "python",
   "name": "python37764bitbaseconda4b33db0745064d18846e50e278fad1b2"
  },
  "language_info": {
   "codemirror_mode": {
    "name": "ipython",
    "version": 3
   },
   "file_extension": ".py",
   "mimetype": "text/x-python",
   "name": "python",
   "nbconvert_exporter": "python",
   "pygments_lexer": "ipython3",
   "version": "3.7.7"
  }
 },
 "nbformat": 4,
 "nbformat_minor": 4
}
