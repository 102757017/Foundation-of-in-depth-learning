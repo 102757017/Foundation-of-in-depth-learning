{
 "cells": [
  {
   "cell_type": "code",
   "execution_count": 85,
   "metadata": {
    "collapsed": true
   },
   "outputs": [],
   "source": [
    "#!/usr/bin/python\n",
    "# -*- coding: UTF-8 -*-\n",
    "import pandas as pd\n",
    "import numpy as np\n",
    "import pprint"
   ]
  },
  {
   "cell_type": "code",
   "execution_count": 86,
   "metadata": {
    "collapsed": true
   },
   "outputs": [],
   "source": [
    "#控制中文标题对齐\n",
    "pd.set_option('display.unicode.ambiguous_as_wide', True)\n",
    "pd.set_option('display.unicode.east_asian_width', True)\n",
    "\n",
    "#显示所有列\n",
    "pd.set_option('display.max_columns', None)\n",
    "pd.set_option('display.width', 500)    #设置整体宽度\n",
    "pd.set_option('display.max_rows',20)   #设置最大行数\n",
    "pd.set_option('display.max_columns', 100) #设置最大列数"
   ]
  },
  {
   "cell_type": "markdown",
   "metadata": {},
   "source": [
    "# 读取excel，可以直接读取本地文件，也可以读取网络链接的文件\n",
    "#header=0表示第0行是标题，第一行是数据\n",
    "#names:指定自定义的列名"
   ]
  },
  {
   "cell_type": "code",
   "execution_count": 87,
   "metadata": {},
   "outputs": [
    {
     "name": "stdout",
     "output_type": "stream",
     "text": [
      "         Date  Index Code Index Chinese Name(Full) Index Chinese Name Index English Name(Full) Index English Name   P/E1   P/E2  D/P1  D/P2\n",
      "0  2020-06-25         905          中证小盘500指数            中证500   CSI Smallcap 500 Index            CSI 500  22.49  23.37  1.18  1.10\n",
      "1  2020-06-24         905          中证小盘500指数            中证500   CSI Smallcap 500 Index            CSI 500  22.49  23.37  1.18  1.11\n",
      "2  2020-06-23         905          中证小盘500指数            中证500   CSI Smallcap 500 Index            CSI 500  22.57  23.45  1.18  1.10\n",
      "3  2020-06-22         905          中证小盘500指数            中证500   CSI Smallcap 500 Index            CSI 500  22.49  23.38  1.19  1.11\n",
      "4  2020-06-19         905          中证小盘500指数            中证500   CSI Smallcap 500 Index            CSI 500  22.55  23.40  1.18  1.11\n",
      "..        ...         ...                      ...                ...                      ...                ...    ...    ...   ...   ...\n",
      "18 2020-06-01         905          中证小盘500指数            中证500   CSI Smallcap 500 Index            CSI 500  22.88  23.39  1.13  1.08\n",
      "19 2020-05-29         905          中证小盘500指数            中证500   CSI Smallcap 500 Index            CSI 500  22.26  22.71  1.16  1.11\n",
      "20 2020-05-28         905          中证小盘500指数            中证500   CSI Smallcap 500 Index            CSI 500  22.07  22.52  1.27  1.20\n",
      "21 2020-05-27         905          中证小盘500指数            中证500   CSI Smallcap 500 Index            CSI 500  22.10  22.56  1.27  1.20\n",
      "22 2020-05-26         905          中证小盘500指数            中证500   CSI Smallcap 500 Index            CSI 500  22.28  22.77  1.26  1.19\n",
      "\n",
      "[23 rows x 10 columns]\n"
     ]
    }
   ],
   "source": [
    "df=pd.read_excel(\"http://www.csindex.com.cn/uploads/file/autofile/indicator/000905indicator.xls?t=1588256726\",header=0,names=[\"Date\",\"Index Code\",\"Index Chinese Name(Full)\",\"Index Chinese Name\",\"Index English Name(Full)\",\"Index English Name\",\"P/E1\",\"P/E2\",\"D/P1\",\"D/P2\"],encoding = 'utf_8')\n",
    "print(df)"
   ]
  },
  {
   "cell_type": "markdown",
   "metadata": {},
   "source": [
    "# 保存dataframe到csv文件\n",
    "”utf-8“ 是以字节为编码单元,它的字节顺序在所有系统中都是一样的,没有字节序问题,因此它不需要BOM.\n",
    "\n",
    "\"uft-8-sig\"中sig全拼为 signature 也就是\"带有签名的utf-8\", 因此\"utf-8-sig\"读取带有BOM的\"utf-8文件时\"会把BOM单独处理,与文本内容隔离开"
   ]
  },
  {
   "cell_type": "code",
   "execution_count": 88,
   "metadata": {
    "collapsed": true
   },
   "outputs": [],
   "source": [
    "df.to_csv(\"stock.csv\",encoding='utf_8_sig')"
   ]
  },
  {
   "cell_type": "markdown",
   "metadata": {},
   "source": [
    "# 保存dataframe到excel文件"
   ]
  },
  {
   "cell_type": "code",
   "execution_count": 89,
   "metadata": {
    "collapsed": true
   },
   "outputs": [],
   "source": [
    "df.to_excel(\"stock.xls\",encoding='utf_8')"
   ]
  },
  {
   "cell_type": "markdown",
   "metadata": {},
   "source": [
    "# 读取csv文件，使用自定义的列名"
   ]
  },
  {
   "cell_type": "code",
   "execution_count": 90,
   "metadata": {},
   "outputs": [
    {
     "name": "stdout",
     "output_type": "stream",
     "text": [
      "    Unnamed: 0        Date  Index Code Index Chinese Name(Full) Index Chinese Name Index English Name(Full) Index English Name   P/E1   P/E2  D/P1  D/P2\n",
      "0            0  2020-06-25         905          中证小盘500指数            中证500   CSI Smallcap 500 Index            CSI 500  22.49  23.37  1.18  1.10\n",
      "1            1  2020-06-24         905          中证小盘500指数            中证500   CSI Smallcap 500 Index            CSI 500  22.49  23.37  1.18  1.11\n",
      "2            2  2020-06-23         905          中证小盘500指数            中证500   CSI Smallcap 500 Index            CSI 500  22.57  23.45  1.18  1.10\n",
      "3            3  2020-06-22         905          中证小盘500指数            中证500   CSI Smallcap 500 Index            CSI 500  22.49  23.38  1.19  1.11\n",
      "4            4  2020-06-19         905          中证小盘500指数            中证500   CSI Smallcap 500 Index            CSI 500  22.55  23.40  1.18  1.11\n",
      "..         ...         ...         ...                      ...                ...                      ...                ...    ...    ...   ...   ...\n",
      "18          18  2020-06-01         905          中证小盘500指数            中证500   CSI Smallcap 500 Index            CSI 500  22.88  23.39  1.13  1.08\n",
      "19          19  2020-05-29         905          中证小盘500指数            中证500   CSI Smallcap 500 Index            CSI 500  22.26  22.71  1.16  1.11\n",
      "20          20  2020-05-28         905          中证小盘500指数            中证500   CSI Smallcap 500 Index            CSI 500  22.07  22.52  1.27  1.20\n",
      "21          21  2020-05-27         905          中证小盘500指数            中证500   CSI Smallcap 500 Index            CSI 500  22.10  22.56  1.27  1.20\n",
      "22          22  2020-05-26         905          中证小盘500指数            中证500   CSI Smallcap 500 Index            CSI 500  22.28  22.77  1.26  1.19\n",
      "\n",
      "[23 rows x 11 columns]\n"
     ]
    }
   ],
   "source": [
    "df=pd.read_csv(\"stock.csv\",header=0,encoding='utf_8')\n",
    "print(df)"
   ]
  },
  {
   "cell_type": "markdown",
   "metadata": {},
   "source": [
    "# 将数据以压缩格式存储"
   ]
  },
  {
   "cell_type": "code",
   "execution_count": 91,
   "metadata": {},
   "outputs": [],
   "source": [
    "h5 = pd.HDFStore(\"Preprocessing\",'w', complevel=4, complib='blosc')\n",
    "h5['data'] = df\n",
    "h5.close()"
   ]
  },
  {
   "cell_type": "markdown",
   "metadata": {},
   "source": [
    "# 载入数据"
   ]
  },
  {
   "cell_type": "code",
   "execution_count": 92,
   "metadata": {},
   "outputs": [
    {
     "name": "stdout",
     "output_type": "stream",
     "text": [
      "    Unnamed: 0        Date  Index Code Index Chinese Name(Full) Index Chinese Name Index English Name(Full) Index English Name   P/E1   P/E2  D/P1  D/P2\n",
      "0            0  2020-06-25         905          中证小盘500指数            中证500   CSI Smallcap 500 Index            CSI 500  22.49  23.37  1.18  1.10\n",
      "1            1  2020-06-24         905          中证小盘500指数            中证500   CSI Smallcap 500 Index            CSI 500  22.49  23.37  1.18  1.11\n",
      "2            2  2020-06-23         905          中证小盘500指数            中证500   CSI Smallcap 500 Index            CSI 500  22.57  23.45  1.18  1.10\n",
      "3            3  2020-06-22         905          中证小盘500指数            中证500   CSI Smallcap 500 Index            CSI 500  22.49  23.38  1.19  1.11\n",
      "4            4  2020-06-19         905          中证小盘500指数            中证500   CSI Smallcap 500 Index            CSI 500  22.55  23.40  1.18  1.11\n",
      "..         ...         ...         ...                      ...                ...                      ...                ...    ...    ...   ...   ...\n",
      "18          18  2020-06-01         905          中证小盘500指数            中证500   CSI Smallcap 500 Index            CSI 500  22.88  23.39  1.13  1.08\n",
      "19          19  2020-05-29         905          中证小盘500指数            中证500   CSI Smallcap 500 Index            CSI 500  22.26  22.71  1.16  1.11\n",
      "20          20  2020-05-28         905          中证小盘500指数            中证500   CSI Smallcap 500 Index            CSI 500  22.07  22.52  1.27  1.20\n",
      "21          21  2020-05-27         905          中证小盘500指数            中证500   CSI Smallcap 500 Index            CSI 500  22.10  22.56  1.27  1.20\n",
      "22          22  2020-05-26         905          中证小盘500指数            中证500   CSI Smallcap 500 Index            CSI 500  22.28  22.77  1.26  1.19\n",
      "\n",
      "[23 rows x 11 columns]\n"
     ]
    }
   ],
   "source": [
    "h5=pd.HDFStore(\"Preprocessing\",\"r\")\n",
    "df=h5[\"data\"]\n",
    "h5.close()\n",
    "print(df)"
   ]
  },
  {
   "cell_type": "markdown",
   "metadata": {},
   "source": [
    "# 用等长列表组成的字典来创建dataframe"
   ]
  },
  {
   "cell_type": "code",
   "execution_count": 93,
   "metadata": {},
   "outputs": [
    {
     "name": "stdout",
     "output_type": "stream",
     "text": [
      "   c  a\n",
      "0  1  5\n",
      "1  2  6 \n",
      "\n",
      "如果指定了columns名称，则会按照指定顺序创建\n",
      "   a  c\n",
      "0  5  1\n",
      "1  6  2 \n",
      "\n"
     ]
    }
   ],
   "source": [
    "data={'c':['1','2'],'a':['5','6']}\n",
    "df=pd.DataFrame(data)\n",
    "print(df,\"\\n\")\n",
    "\n",
    "print(\"如果指定了columns名称，则会按照指定顺序创建\")\n",
    "df=pd.DataFrame(data,columns=['a','c'])\n",
    "print(df,\"\\n\")"
   ]
  },
  {
   "cell_type": "markdown",
   "metadata": {},
   "source": [
    "# 根据嵌套字典（字典的值也是字典）创建DataFrame"
   ]
  },
  {
   "cell_type": "code",
   "execution_count": 94,
   "metadata": {},
   "outputs": [
    {
     "name": "stdout",
     "output_type": "stream",
     "text": [
      "      shanghai  beijing\n",
      "2015       100      102\n",
      "2016       101      103\n",
      "2017       102      104 \n",
      "\n"
     ]
    }
   ],
   "source": [
    "nest_dict={'shanghai':{2015:100,2016:101,2017:102},'beijing':{2015:102,2016:103,2017:104}}  \n",
    "df=pd.DataFrame(nest_dict)\n",
    "print(df,\"\\n\")"
   ]
  },
  {
   "cell_type": "markdown",
   "metadata": {},
   "source": [
    "# 根据numpy数组创建dataframe\n",
    "dataframe中索引的概念与数据库不同，,index为行索引（行标题）,columns为列索引（相当于字段名）"
   ]
  },
  {
   "cell_type": "code",
   "execution_count": 95,
   "metadata": {},
   "outputs": [
    {
     "name": "stdout",
     "output_type": "stream",
     "text": [
      "   one  two  three  four\n",
      "a    0    1      2     3\n",
      "b    4    5      6     7\n",
      "c    8    9     10    11\n",
      "d   12   13     14    15\n",
      "shape： (4, 4)\n",
      "行数： 4\n",
      "列数： 4\n"
     ]
    }
   ],
   "source": [
    "df=pd.DataFrame(np.arange(16).reshape((4,4)),index=['a','b','c','d'],columns=['one','two','three','four'])\n",
    "print(df)\n",
    "print(\"shape：\",df.shape)\n",
    "print(\"行数：\",df.index.size)\n",
    "print(\"列数：\",df.columns.size)"
   ]
  },
  {
   "cell_type": "markdown",
   "metadata": {},
   "source": [
    "# 基于label进行索引"
   ]
  },
  {
   "cell_type": "code",
   "execution_count": 96,
   "metadata": {},
   "outputs": [
    {
     "name": "stdout",
     "output_type": "stream",
     "text": [
      "\n",
      "行标题为a的行：\n",
      "one      0\n",
      "two      1\n",
      "three    2\n",
      "four     3\n",
      "Name: a, dtype: int32\n",
      "\n",
      "行标题为a的行：\n",
      "one      0\n",
      "two      1\n",
      "three    2\n",
      "four     3\n",
      "Name: a, dtype: int32\n",
      "\n",
      "行标题为a，列标题为one数据：\n",
      "0\n",
      "\n",
      "行标题为a~c的行：\n",
      "   one  two  three  four\n",
      "a    0    1      2     3\n",
      "b    4    5      6     7\n",
      "c    8    9     10    11\n",
      "\n",
      "选择多列\n",
      "one    0\n",
      "two    1\n",
      "Name: a, dtype: int32\n"
     ]
    }
   ],
   "source": [
    "print(\"\\n行标题为a的行：\")\n",
    "print(df.loc[\"a\",:])\n",
    "\n",
    "print(\"\\n行标题为a的行：\")\n",
    "print(df.loc[\"a\"])\n",
    "\n",
    "print(\"\\n行标题为a，列标题为one数据：\")\n",
    "print(df.loc[\"a\",\"one\"])\n",
    "\n",
    "print(\"\\n行标题为a~c的行：\")\n",
    "print(df.loc[\"a\":\"c\",:])\n",
    "\n",
    "print(\"\\n选择多列\")\n",
    "print(df.loc[\"a\",[\"one\",\"two\"]])"
   ]
  },
  {
   "cell_type": "markdown",
   "metadata": {},
   "source": [
    "# 基于位置进行索引"
   ]
  },
  {
   "cell_type": "code",
   "execution_count": 97,
   "metadata": {},
   "outputs": [
    {
     "name": "stdout",
     "output_type": "stream",
     "text": [
      "第1行：\n",
      "one      0\n",
      "two      1\n",
      "three    2\n",
      "four     3\n",
      "Name: a, dtype: int32\n",
      "\n",
      "第1行\n",
      "one      0\n",
      "two      1\n",
      "three    2\n",
      "four     3\n",
      "Name: a, dtype: int32\n",
      "\n",
      "第1行，第1列：\n",
      "4\n",
      "\n",
      "切片1~2行\n",
      "   one  two  three  four\n",
      "a    0    1      2     3\n",
      "b    4    5      6     7\n",
      "\n",
      "选择多列\n",
      "   one  two\n",
      "a    0    1\n",
      "b    4    5\n",
      "c    8    9\n",
      "d   12   13\n"
     ]
    }
   ],
   "source": [
    "print(\"第1行：\")\n",
    "print(df.iloc[0])\n",
    "\n",
    "print(\"\\n第1行\")\n",
    "print(df.iloc[0,:])\n",
    "\n",
    "print(\"\\n第1行，第1列：\")\n",
    "print(df.iloc[1,0])\n",
    "\n",
    "print(\"\\n切片1~2行\")\n",
    "print(df.iloc[0:2,:])\n",
    "\n",
    "print(\"\\n选择多列\")\n",
    "print(df.iloc[:,[0,1]])"
   ]
  },
  {
   "cell_type": "markdown",
   "metadata": {},
   "source": [
    "# 混合lable与位置进行索引"
   ]
  },
  {
   "cell_type": "code",
   "execution_count": 98,
   "metadata": {},
   "outputs": [
    {
     "name": "stdout",
     "output_type": "stream",
     "text": [
      "12\n"
     ]
    }
   ],
   "source": [
    "df.iloc[0].loc[\"one\"]=12\n",
    "print(df.iloc[0].loc[\"one\"])"
   ]
  },
  {
   "cell_type": "markdown",
   "metadata": {},
   "source": [
    "# 按行遍历\n",
    "row[0]内存储的是行索引"
   ]
  },
  {
   "cell_type": "code",
   "execution_count": 99,
   "metadata": {},
   "outputs": [
    {
     "name": "stdout",
     "output_type": "stream",
     "text": [
      "12 1\n",
      "4 5\n",
      "8 9\n",
      "12 13\n"
     ]
    }
   ],
   "source": [
    "for row in df.iterrows():\n",
    "    print(row[1][\"one\"], row[1][\"two\"])"
   ]
  },
  {
   "cell_type": "markdown",
   "metadata": {},
   "source": [
    "# 增加1列,标题为c，内容都为1"
   ]
  },
  {
   "cell_type": "code",
   "execution_count": 100,
   "metadata": {},
   "outputs": [
    {
     "name": "stdout",
     "output_type": "stream",
     "text": [
      "   one  two  three  four  c\n",
      "a   12    1      2     3  1\n",
      "b    4    5      6     7  1\n",
      "c    8    9     10    11  1\n",
      "d   12   13     14    15  1\n"
     ]
    }
   ],
   "source": [
    "df.loc[:,\"c\"]=1\n",
    "print(df)"
   ]
  },
  {
   "cell_type": "markdown",
   "metadata": {},
   "source": [
    "# 删除c列"
   ]
  },
  {
   "cell_type": "code",
   "execution_count": 101,
   "metadata": {},
   "outputs": [
    {
     "name": "stdout",
     "output_type": "stream",
     "text": [
      "   one  two  three  four\n",
      "a   12    1      2     3\n",
      "b    4    5      6     7\n",
      "c    8    9     10    11\n",
      "d   12   13     14    15\n"
     ]
    }
   ],
   "source": [
    "df=df.drop([\"c\"],axis=1)\n",
    "print(df)"
   ]
  },
  {
   "cell_type": "markdown",
   "metadata": {},
   "source": [
    "# 增加1行"
   ]
  },
  {
   "cell_type": "code",
   "execution_count": 102,
   "metadata": {},
   "outputs": [
    {
     "name": "stdout",
     "output_type": "stream",
     "text": [
      "    one   two  three  four\n",
      "a  12.0   1.0    2.0   3.0\n",
      "b   4.0   5.0    6.0   7.0\n",
      "c   8.0   9.0   10.0  11.0\n",
      "d  12.0  13.0   14.0  15.0\n",
      "e   9.0  10.0   11.0  12.0\n"
     ]
    }
   ],
   "source": [
    "df.loc[\"e\",:]=[9,10,11,12]\n",
    "print(df)"
   ]
  },
  {
   "cell_type": "markdown",
   "metadata": {},
   "source": [
    "# 删除1行"
   ]
  },
  {
   "cell_type": "code",
   "execution_count": 103,
   "metadata": {},
   "outputs": [
    {
     "name": "stdout",
     "output_type": "stream",
     "text": [
      "    one   two  three  four\n",
      "a  12.0   1.0    2.0   3.0\n",
      "b   4.0   5.0    6.0   7.0\n",
      "c   8.0   9.0   10.0  11.0\n",
      "d  12.0  13.0   14.0  15.0\n"
     ]
    }
   ],
   "source": [
    "df=df.drop([\"e\"],axis=0)\n",
    "print(df)"
   ]
  },
  {
   "cell_type": "markdown",
   "metadata": {},
   "source": [
    "# 删除重复的行"
   ]
  },
  {
   "cell_type": "code",
   "execution_count": 104,
   "metadata": {},
   "outputs": [
    {
     "name": "stdout",
     "output_type": "stream",
     "text": [
      "    one   two  three  four\n",
      "a  12.0   1.0    2.0   3.0\n",
      "b   4.0   5.0    6.0   7.0\n",
      "c   8.0   9.0   10.0  11.0\n",
      "d  12.0  13.0   14.0  15.0\n"
     ]
    }
   ],
   "source": [
    "df.drop_duplicates()\n",
    "print(df)"
   ]
  },
  {
   "cell_type": "markdown",
   "metadata": {},
   "source": [
    "# 排序"
   ]
  },
  {
   "cell_type": "code",
   "execution_count": 105,
   "metadata": {},
   "outputs": [
    {
     "name": "stdout",
     "output_type": "stream",
     "text": [
      "    one   two  three  four\n",
      "a  12.0   1.0    2.0   3.0\n",
      "d  12.0  13.0   14.0  15.0\n",
      "c   8.0   9.0   10.0  11.0\n",
      "b   4.0   5.0    6.0   7.0 \n",
      "\n",
      "    one   two  three  four\n",
      "d  12.0  13.0   14.0  15.0\n",
      "a  12.0   1.0    2.0   3.0\n",
      "c   8.0   9.0   10.0  11.0\n",
      "b   4.0   5.0    6.0   7.0 \n",
      "\n"
     ]
    }
   ],
   "source": [
    "a=df.sort_values(by=\"one\" , ascending=False)\n",
    "print(a,\"\\n\")\n",
    "\n",
    "a=df.sort_values(by=[\"one\",\"two\"] , ascending=False)\n",
    "print(a,\"\\n\")"
   ]
  },
  {
   "cell_type": "markdown",
   "metadata": {},
   "source": [
    "# 多条件过滤数据"
   ]
  },
  {
   "cell_type": "code",
   "execution_count": 106,
   "metadata": {},
   "outputs": [
    {
     "name": "stdout",
     "output_type": "stream",
     "text": [
      "    one   two  three  four\n",
      "a  12.0   1.0    2.0   3.0\n",
      "b   4.0   5.0    6.0   7.0\n",
      "c   8.0   9.0   10.0  11.0\n",
      "d  12.0  13.0   14.0  15.0 \n",
      "\n",
      "    one  two  three  four\n",
      "a  12.0  1.0    2.0   3.0\n",
      "c   8.0  9.0   10.0  11.0 \n",
      "\n"
     ]
    }
   ],
   "source": [
    "df2=df[(df.one>4)&(df.two<13)]\n",
    "print(df,\"\\n\")\n",
    "print(df2,\"\\n\")"
   ]
  },
  {
   "cell_type": "markdown",
   "metadata": {},
   "source": [
    "# 保留>4的数据，其它数据赋值NaN"
   ]
  },
  {
   "cell_type": "code",
   "execution_count": 107,
   "metadata": {},
   "outputs": [
    {
     "name": "stdout",
     "output_type": "stream",
     "text": [
      "    one   two  three  four\n",
      "a  12.0   1.0    2.0   3.0\n",
      "b   4.0   5.0    6.0   7.0\n",
      "c   8.0   9.0   10.0  11.0\n",
      "d  12.0  13.0   14.0  15.0 \n",
      "\n",
      "    one   two  three  four\n",
      "a  12.0   1.0    2.0   3.0\n",
      "b   NaN   5.0    6.0   7.0\n",
      "c   8.0   9.0   10.0  11.0\n",
      "d  12.0  13.0   14.0  15.0\n"
     ]
    }
   ],
   "source": [
    "print(df,\"\\n\")\n",
    "df.one=df.one.where(df.one>4)\n",
    "print(df)"
   ]
  },
  {
   "cell_type": "markdown",
   "metadata": {},
   "source": [
    "# 保留>4的数据，其它数据赋值1"
   ]
  },
  {
   "cell_type": "code",
   "execution_count": 108,
   "metadata": {},
   "outputs": [
    {
     "name": "stdout",
     "output_type": "stream",
     "text": [
      "    one   two  three  four\n",
      "a  12.0   1.0    2.0   3.0\n",
      "b   1.0   5.0    6.0   7.0\n",
      "c   8.0   9.0   10.0  11.0\n",
      "d  12.0  13.0   14.0  15.0\n"
     ]
    }
   ],
   "source": [
    "df.one=df.one.where(df.one>4,1)\n",
    "print(df)"
   ]
  },
  {
   "cell_type": "markdown",
   "metadata": {},
   "source": [
    "# 替换=1的数据"
   ]
  },
  {
   "cell_type": "code",
   "execution_count": 109,
   "metadata": {},
   "outputs": [
    {
     "name": "stdout",
     "output_type": "stream",
     "text": [
      "    one   two  three  four\n",
      "a  12.0   1.0    2.0   3.0\n",
      "b   3.0   5.0    6.0   7.0\n",
      "c   8.0   9.0   10.0  11.0\n",
      "d  12.0  13.0   14.0  15.0\n"
     ]
    }
   ],
   "source": [
    "df.one=df.one.replace(1,3)\n",
    "print(df)"
   ]
  },
  {
   "cell_type": "markdown",
   "metadata": {},
   "source": [
    "# 根据字典替换数据\n",
    "不属于dict的值会被替换为NaN"
   ]
  },
  {
   "cell_type": "code",
   "execution_count": 110,
   "metadata": {},
   "outputs": [
    {
     "name": "stdout",
     "output_type": "stream",
     "text": [
      "    one   two  three four\n",
      "a  12.0   1.0    2.0   男\n",
      "b   3.0   5.0    6.0  NaN\n",
      "c   8.0   9.0   10.0   女\n",
      "d  12.0  13.0   14.0  NaN\n"
     ]
    }
   ],
   "source": [
    "df.four=df.four.map({11:\"女\",3:\"男\"})\n",
    "print(df)"
   ]
  },
  {
   "cell_type": "markdown",
   "metadata": {},
   "source": [
    "# dataframe转换为numpy"
   ]
  },
  {
   "cell_type": "code",
   "execution_count": 111,
   "metadata": {},
   "outputs": [
    {
     "name": "stdout",
     "output_type": "stream",
     "text": [
      "[[12.0 1.0 2.0 '男']\n",
      " [3.0 5.0 6.0 nan]\n",
      " [8.0 9.0 10.0 '女']\n",
      " [12.0 13.0 14.0 nan]]\n"
     ]
    }
   ],
   "source": [
    "print(df.values)"
   ]
  },
  {
   "cell_type": "markdown",
   "metadata": {},
   "source": [
    "# 将列转换为索引"
   ]
  },
  {
   "cell_type": "code",
   "execution_count": 112,
   "metadata": {},
   "outputs": [
    {
     "name": "stdout",
     "output_type": "stream",
     "text": [
      "将one列转换为索引\n",
      "       two  three four\n",
      "one                   \n",
      "12.0   1.0    2.0   男\n",
      "3.0    5.0    6.0  NaN\n",
      "8.0    9.0   10.0   女\n",
      "12.0  13.0   14.0  NaN \n",
      "\n",
      "将one列,two均转换为索引\n",
      "           three four\n",
      "one  two             \n",
      "12.0 1.0     2.0   男\n",
      "3.0  5.0     6.0  NaN\n",
      "8.0  9.0    10.0   女\n",
      "12.0 13.0   14.0  NaN \n",
      "\n"
     ]
    }
   ],
   "source": [
    "print(\"将one列转换为索引\")\n",
    "df2=df.set_index(['one'])\n",
    "print(df2,\"\\n\")\n",
    "\n",
    "print(\"将one列,two均转换为索引\")\n",
    "df2=df.set_index(['one',\"two\"])\n",
    "print(df2,\"\\n\")"
   ]
  },
  {
   "cell_type": "markdown",
   "metadata": {},
   "source": [
    "# 将索引转换为列"
   ]
  },
  {
   "cell_type": "code",
   "execution_count": 113,
   "metadata": {},
   "outputs": [
    {
     "name": "stdout",
     "output_type": "stream",
     "text": [
      "    one   two  three four index\n",
      "a  12.0   1.0    2.0   男     a\n",
      "b   3.0   5.0    6.0  NaN     b\n",
      "c   8.0   9.0   10.0   女     c\n",
      "d  12.0  13.0   14.0  NaN     d\n"
     ]
    }
   ],
   "source": [
    "df.loc[:,\"index\"] = df.index\n",
    "print(df)"
   ]
  },
  {
   "cell_type": "markdown",
   "metadata": {},
   "source": [
    "# 连接表格\n",
    "inner:取交集  \n",
    "outer:取并集  \n",
    "left:左外连接  \n",
    "right:右外连接  "
   ]
  },
  {
   "cell_type": "code",
   "execution_count": 121,
   "metadata": {},
   "outputs": [
    {
     "name": "stdout",
     "output_type": "stream",
     "text": [
      "   one  two  three  four\n",
      "a    0    1      2     3\n",
      "b    4    5      6     7\n",
      "c    8    9     10    11\n",
      "d   12   13     14    15 \n",
      "\n",
      "将两个表按行进行合并\n",
      "   one  two  three  four  one  two  three  four\n",
      "a    0    1      2     3    0    1      2     3\n",
      "b    4    5      6     7    4    5      6     7\n",
      "c    8    9     10    11    8    9     10    11\n",
      "d   12   13     14    15   12   13     14    15\n"
     ]
    }
   ],
   "source": [
    "df=pd.DataFrame(np.arange(16).reshape((4,4)),index=['a','b','c','d'],columns=['one','two','three','four'])\n",
    "print(df,\"\\n\")\n",
    "print(\"将两个表按行进行合并\")\n",
    "df3=pd.concat([df, df],axis=1,join='outer')\n",
    "print(df3)"
   ]
  },
  {
   "cell_type": "code",
   "execution_count": 115,
   "metadata": {},
   "outputs": [
    {
     "name": "stdout",
     "output_type": "stream",
     "text": [
      "将两个表按列进行合并\n",
      "   one  two  three  four\n",
      "a    0    1      2     3\n",
      "b    4    5      6     7\n",
      "c    8    9     10    11\n",
      "d   12   13     14    15\n",
      "a    0    1      2     3\n",
      "b    4    5      6     7\n",
      "c    8    9     10    11\n",
      "d   12   13     14    15 \n",
      "\n"
     ]
    }
   ],
   "source": [
    "print(\"将两个表按列进行合并\")\n",
    "df3=pd.concat([df, df],axis=0)\n",
    "print(df3,\"\\n\")"
   ]
  },
  {
   "cell_type": "markdown",
   "metadata": {},
   "source": [
    "# 生成pandas时间序列\n",
    "| 别名    | Offset类型     | 描述                     |\n",
    "| ------- | -------------- | ------------------------ |\n",
    "| B       | BDay           | 工作日                   |\n",
    "| C       | CDay           | 定制工作日               |\n",
    "| D       | Day            | 日历日                   |\n",
    "| W       | Week           | 每周                     |\n",
    "| M       | MonthEnd       | 每月最后一个日历日       |\n",
    "| SM      | SemiMonthEnd   | 每月15日和最后一个日历日 |\n",
    "| BM      | BMonthEnd      | 每月15日和最后一个工作日 |\n",
    "| CBM     | CBMonthEnd     | 定制每月最后一个日历日   |\n",
    "| MSS     | MonthBegin     | 每月第一个日历日         |\n",
    "| SMS     | SemiMonthBegin | 每月1日和15日            |\n",
    "| BMS     | BMonthBegin    | 每月第一个工作日         |\n",
    "| CBMS    | CBMonthBegin   | 定制每月第一个工作日     |\n",
    "| Q       | QuarterEnd     | 每季度最后一个日历日     |\n",
    "| BQ      | BQuarterEnd    | 每季度最后一个工作日     |\n",
    "| QS      | QuarterBegin   | 每季度第一个日历日       |\n",
    "| BQS     | BQuarterBegin  | 每季度第一个工作日       |\n",
    "| A,Y     | YearEnd        | 每年最后一个日历日       |\n",
    "| BA,BY   | BYearEnd       | 每年最后一个工作日       |\n",
    "| AS,YS   | YearBegin      | 每年第一个日历日         |\n",
    "| BAS,BYS | BYearBegin     | 每年第一个工作日         |\n",
    "| H       | Hour           | 每小时                   |\n",
    "| BH      | BusinessHour   | 每工作小时               |\n",
    "| T,min   | Minute         | 每分钟                   |\n",
    "| S       | Second         | 每秒                     |\n",
    "| L,ms    | Milli          | 毫秒                     |\n",
    "| U,us    | Micro          | 微秒                     |\n",
    "| N       | Nano           | 纳秒                     |"
   ]
  },
  {
   "cell_type": "code",
   "execution_count": 116,
   "metadata": {},
   "outputs": [
    {
     "name": "stdout",
     "output_type": "stream",
     "text": [
      "DatetimeIndex(['2020-05-26', '2020-05-27', '2020-05-28', '2020-05-29', '2020-06-01', '2020-06-02', '2020-06-03', '2020-06-04', '2020-06-05', '2020-06-08', '2020-06-09', '2020-06-10', '2020-06-11', '2020-06-12', '2020-06-15', '2020-06-16', '2020-06-17', '2020-06-18', '2020-06-19', '2020-06-22', '2020-06-23', '2020-06-24', '2020-06-25', '2020-06-26'], dtype='datetime64[ns]', freq='B') \n",
      "\n"
     ]
    }
   ],
   "source": [
    "import datetime\n",
    "df=pd.date_range('2020-5-26',datetime.date.today(),freq='B')\n",
    "print(df,\"\\n\")"
   ]
  },
  {
   "cell_type": "markdown",
   "metadata": {},
   "source": [
    "# 其它时间格式转换为pandas的时间格式"
   ]
  },
  {
   "cell_type": "code",
   "execution_count": 117,
   "metadata": {},
   "outputs": [
    {
     "name": "stdout",
     "output_type": "stream",
     "text": [
      "DatetimeIndex(['2020-06-28 11:43:00.670536995', '2020-06-28 11:43:00.670536995'], dtype='datetime64[ns]', freq=None)\n",
      "DatetimeIndex(['2020-06-28 11:43:00.670000', '2020-06-28 11:43:00.670000'], dtype='datetime64[ns]', freq=None)\n",
      "DatetimeIndex(['2020-05-01', '2020-05-02'], dtype='datetime64[ns]', freq=None)\n",
      "DatetimeIndex(['2020-05-01 20:00:00', '2020-05-02 12:00:00'], dtype='datetime64[ns]', freq=None)\n"
     ]
    }
   ],
   "source": [
    "#时间戳转换\n",
    "df=[1593344580.670537,1593344580.670537]\n",
    "df=pd.to_datetime(df, unit='s')\n",
    "print(df)\n",
    "\n",
    "#时间戳转换\n",
    "df=[1593344580670,1593344580670]\n",
    "df=pd.to_datetime(df, unit='ms')\n",
    "print(df)\n",
    "\n",
    "\n",
    "#string转换\n",
    "df=[\"2020-05-01\",\"2020-05-02\"]\n",
    "df=pd.to_datetime(df,format=\"%Y-%m-%d\")\n",
    "print(df)\n",
    "\n",
    "#string转换\n",
    "df=[\"2020-05-01 20:00:00\",\"2020-05-02 12:00:00\"]\n",
    "df=pd.to_datetime(df,format=\"%Y-%m-%d %H:%M:%S\")\n",
    "print(df)"
   ]
  },
  {
   "cell_type": "markdown",
   "metadata": {},
   "source": [
    "# pandas的时间格式转换为string"
   ]
  },
  {
   "cell_type": "code",
   "execution_count": 118,
   "metadata": {},
   "outputs": [
    {
     "name": "stdout",
     "output_type": "stream",
     "text": [
      "Index(['2020-05-01', '2020-05-02'], dtype='object')\n"
     ]
    }
   ],
   "source": [
    "df2=df.strftime(\"%Y-%m-%d\")\n",
    "print(df2)"
   ]
  },
  {
   "cell_type": "markdown",
   "metadata": {},
   "source": [
    "# 将dataframe整体平移i个单元格创建一个新的dataframe\n",
    "原dataframe自身不会产生变化，由此缺少的值用NaN填补"
   ]
  },
  {
   "cell_type": "code",
   "execution_count": 119,
   "metadata": {},
   "outputs": [
    {
     "name": "stdout",
     "output_type": "stream",
     "text": [
      "   one  two  three  four\n",
      "a  NaN  NaN    NaN   NaN\n",
      "b  0.0  1.0    2.0   3.0\n",
      "c  4.0  5.0    6.0   7.0\n",
      "d  8.0  9.0   10.0  11.0 \n",
      "\n",
      "    one   two  three  four\n",
      "a   4.0   5.0    6.0   7.0\n",
      "b   8.0   9.0   10.0  11.0\n",
      "c  12.0  13.0   14.0  15.0\n",
      "d   NaN   NaN    NaN   NaN\n"
     ]
    }
   ],
   "source": [
    "df=pd.DataFrame(np.arange(16).reshape((4,4)),index=['a','b','c','d'],columns=['one','two','three','four'])\n",
    "#向下平移\n",
    "df2=df.shift(1)\n",
    "print(df2,\"\\n\")\n",
    "\n",
    "#向上平移\n",
    "df2=df.shift(-1)\n",
    "print(df2)"
   ]
  },
  {
   "cell_type": "markdown",
   "metadata": {},
   "source": [
    "# 移动5个值，进行求平均数（5日均线）"
   ]
  },
  {
   "cell_type": "code",
   "execution_count": 120,
   "metadata": {},
   "outputs": [
    {
     "name": "stdout",
     "output_type": "stream",
     "text": [
      "     a   new\n",
      "0    0   NaN\n",
      "1    1   NaN\n",
      "2    2   NaN\n",
      "3    3   NaN\n",
      "4    4   2.0\n",
      "5    5   3.0\n",
      "6    6   4.0\n",
      "7    7   5.0\n",
      "8    8   6.0\n",
      "9    9   7.0\n",
      "10  10   8.0\n",
      "11  11   9.0\n",
      "12  12  10.0\n",
      "13  13  11.0\n",
      "14  14  12.0\n",
      "15  15  13.0\n"
     ]
    }
   ],
   "source": [
    "df=pd.DataFrame(np.arange(16),columns=['a'])\n",
    "data=df\n",
    "df[\"new\"]=data.rolling(5).mean()\n",
    "print(df)"
   ]
  },
  {
   "cell_type": "markdown",
   "metadata": {},
   "source": [
    "# 数据离散化"
   ]
  },
  {
   "cell_type": "code",
   "execution_count": 132,
   "metadata": {},
   "outputs": [
    {
     "name": "stdout",
     "output_type": "stream",
     "text": [
      "[(10, 20], (20, 50], (20, 50], (20, 50], (20, 50], ..., (20, 50], (50, 100], (20, 50], (20, 50], (20, 50]]\n",
      "Length: 12\n",
      "Categories (4, interval[int64]): [(0, 10] < (10, 20] < (20, 50] < (50, 100]]\n"
     ]
    },
    {
     "ename": "AttributeError",
     "evalue": "'list' object has no attribute 'groupby'",
     "output_type": "error",
     "traceback": [
      "\u001b[1;31m---------------------------------------------------------------------------\u001b[0m",
      "\u001b[1;31mAttributeError\u001b[0m                            Traceback (most recent call last)",
      "\u001b[1;32m<ipython-input-132-3a930b549696>\u001b[0m in \u001b[0;36m<module>\u001b[1;34m()\u001b[0m\n\u001b[0;32m      3\u001b[0m \u001b[0mp_counts\u001b[0m \u001b[1;33m=\u001b[0m \u001b[0mpd\u001b[0m\u001b[1;33m.\u001b[0m\u001b[0mcut\u001b[0m\u001b[1;33m(\u001b[0m\u001b[0mdf\u001b[0m\u001b[1;33m,\u001b[0m \u001b[0mbins\u001b[0m\u001b[1;33m)\u001b[0m\u001b[1;33m\u001b[0m\u001b[0m\n\u001b[0;32m      4\u001b[0m \u001b[0mprint\u001b[0m\u001b[1;33m(\u001b[0m\u001b[0mp_counts\u001b[0m\u001b[1;33m)\u001b[0m\u001b[1;33m\u001b[0m\u001b[0m\n\u001b[1;32m----> 5\u001b[1;33m \u001b[0mdf\u001b[0m\u001b[1;33m.\u001b[0m\u001b[0mgroupby\u001b[0m\u001b[1;33m(\u001b[0m\u001b[0mp_counts\u001b[0m\u001b[1;33m)\u001b[0m\u001b[1;33m.\u001b[0m\u001b[0mcount\u001b[0m\u001b[1;33m(\u001b[0m\u001b[1;33m)\u001b[0m\u001b[1;33m\u001b[0m\u001b[0m\n\u001b[0m",
      "\u001b[1;31mAttributeError\u001b[0m: 'list' object has no attribute 'groupby'"
     ]
    }
   ],
   "source": [
    "np.array([[1,2,3],[4,5,6]])\n",
    "df=[20,22,25,27,21,23,37,31,61,45,41,32]\n",
    "df=pd.DataFrame(np.arange(16).reshape((4,4)),index=['a','b','c','d'],columns=['one','two','three','four'])\n",
    "bins = [0, 10, 20, 50,100]\n",
    "p_counts = pd.cut(df, bins)\n",
    "print(p_counts)\n",
    "df.groupby(p_counts).count()"
   ]
  }
 ],
 "metadata": {
  "kernelspec": {
   "display_name": "Python 3",
   "language": "python",
   "name": "python3"
  },
  "language_info": {
   "codemirror_mode": {
    "name": "ipython",
    "version": 3
   },
   "file_extension": ".py",
   "mimetype": "text/x-python",
   "name": "python",
   "nbconvert_exporter": "python",
   "pygments_lexer": "ipython3",
   "version": "3.6.1"
  }
 },
 "nbformat": 4,
 "nbformat_minor": 2
}
