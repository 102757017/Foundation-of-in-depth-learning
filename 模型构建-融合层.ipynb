{
 "cells": [
  {
   "cell_type": "code",
   "execution_count": 10,
   "metadata": {},
   "outputs": [],
   "source": [
    "#!/usr/bin/python\n",
    "# -*- coding: UTF-8 -*-\n",
    "from keras.layers import Input,Dense,Add,Subtract,Multiply,Concatenate\n",
    "from keras import backend as K\n",
    "import tensorflow as tf\n",
    "import numpy as np"
   ]
  },
  {
   "cell_type": "markdown",
   "metadata": {},
   "source": [
    "# Add计算输入张量列表的和\n",
    "所有的张量必须有相同的输入尺寸"
   ]
  },
  {
   "cell_type": "code",
   "execution_count": 36,
   "metadata": {},
   "outputs": [
    {
     "name": "stdout",
     "output_type": "stream",
     "text": [
      "Tensor(\"input_27:0\", shape=(?, 16), dtype=float32)\n",
      "Tensor(\"add_20/add:0\", shape=(?, 16), dtype=float32)\n"
     ]
    }
   ],
   "source": [
    "input1 = Input(shape=(16,))\n",
    "print(input1)\n",
    "added = Add()([input1, input1])\n",
    "print(added)"
   ]
  },
  {
   "cell_type": "markdown",
   "metadata": {
    "collapsed": true
   },
   "source": [
    "# Subtract计算输入张量列表的差"
   ]
  },
  {
   "cell_type": "code",
   "execution_count": 7,
   "metadata": {},
   "outputs": [
    {
     "name": "stdout",
     "output_type": "stream",
     "text": [
      "Tensor(\"input_4:0\", shape=(?, 16), dtype=float32)\n",
      "Tensor(\"subtract_2/sub:0\", shape=(?, 16), dtype=float32)\n"
     ]
    }
   ],
   "source": [
    "input1 = Input(shape=(16,))\n",
    "print(input1)\n",
    "Subtracted = Subtract()([input1, input1])\n",
    "print(Subtracted)"
   ]
  },
  {
   "cell_type": "markdown",
   "metadata": {},
   "source": [
    "# Multiply计算输入张量列表的乘"
   ]
  },
  {
   "cell_type": "code",
   "execution_count": 8,
   "metadata": {},
   "outputs": [
    {
     "name": "stdout",
     "output_type": "stream",
     "text": [
      "Tensor(\"input_5:0\", shape=(?, 16), dtype=float32)\n",
      "Tensor(\"multiply_2/mul:0\", shape=(?, 16), dtype=float32)\n"
     ]
    }
   ],
   "source": [
    "input1 = Input(shape=(16,))\n",
    "print(input1)\n",
    "Multiplyed = Multiply()([input1, input1])\n",
    "print(Multiplyed)"
   ]
  },
  {
   "cell_type": "markdown",
   "metadata": {},
   "source": [
    "# Concatenate连接一个输入张量的列表。"
   ]
  },
  {
   "cell_type": "code",
   "execution_count": 19,
   "metadata": {},
   "outputs": [
    {
     "name": "stdout",
     "output_type": "stream",
     "text": [
      "Tensor(\"input_14:0\", shape=(?, 16), dtype=float32)\n",
      "axis=0 Tensor(\"concatenate_12/concat:0\", shape=(?, 16), dtype=float32)\n",
      "axis=1 Tensor(\"concatenate_13/concat:0\", shape=(?, 32), dtype=float32)\n"
     ]
    }
   ],
   "source": [
    "input1 = Input(shape=(16,))\n",
    "print(input1)\n",
    "Concatenated = Concatenate(axis=0)([input1, input1])\n",
    "print(\"axis=0\",Concatenated)\n",
    "Concatenated = Concatenate(axis=1)([input1, input1])\n",
    "print(\"axis=1\",Concatenated)"
   ]
  },
  {
   "cell_type": "code",
   "execution_count": null,
   "metadata": {
    "collapsed": true
   },
   "outputs": [],
   "source": []
  }
 ],
 "metadata": {
  "kernelspec": {
   "display_name": "Python 3",
   "language": "python",
   "name": "python3"
  },
  "language_info": {
   "codemirror_mode": {
    "name": "ipython",
    "version": 3
   },
   "file_extension": ".py",
   "mimetype": "text/x-python",
   "name": "python",
   "nbconvert_exporter": "python",
   "pygments_lexer": "ipython3",
   "version": "3.6.1"
  }
 },
 "nbformat": 4,
 "nbformat_minor": 2
}
